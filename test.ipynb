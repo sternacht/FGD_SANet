{
 "cells": [
  {
   "cell_type": "code",
   "execution_count": 187,
   "metadata": {},
   "outputs": [],
   "source": [
    "# anchors = [[5,5,5],[10,10,10],[15,15,15],[20,20,20],[30,30,30],[5,5,2.5],[10,10,5],[15,15,7.5],[20,20,10],[30,30,15]]\n",
    "# anchors = [[5,5,5],[10,10,10],[15,15,15],[20,20,20],[30,30,30]]\n",
    "# anchors = [[6,6,6],[12,12,12],[24,24,24],[9,9,6],[18,18,12],[36,36,24]]\n",
    "anchors = [[5,5,3],[8,8,4.8],[14,14,8.4],[28,28,16.8]]"
   ]
  },
  {
   "cell_type": "code",
   "execution_count": 227,
   "metadata": {},
   "outputs": [],
   "source": [
    "import itertools\n",
    "import numpy as np\n",
    "\n",
    "\n",
    "def make_rpn_windows(f_shape):\n",
    "    \"\"\"\n",
    "    Generating anchor boxes at each voxel on the feature map,\n",
    "    the center of the anchor box on each voxel corresponds to center\n",
    "    on the original input image.\n",
    "\n",
    "    return\n",
    "    windows: list of anchor boxes, [z, y, x, d, h, w]\n",
    "    \"\"\"\n",
    "    stride = 4\n",
    "    anchors = np.asarray(anchors)\n",
    "    offset = (float(stride) - 1) / 2\n",
    "    _, _, D, H, W = f_shape\n",
    "    oz = np.arange(offset, offset + stride * (D - 1) + 1, stride)\n",
    "    oh = np.arange(offset, offset + stride * (H - 1) + 1, stride)\n",
    "    ow = np.arange(offset, offset + stride * (W - 1) + 1, stride)\n",
    "\n",
    "    windows = []\n",
    "    for z, y, x, a in itertools.product(oz, oh , ow , anchors):\n",
    "        windows.append([z, y, x, a[0], a[1], a[2]])\n",
    "    windows = np.array(windows)\n",
    "\n",
    "    return windows\n",
    "\n",
    "def find_nearest(x,y,z):\n",
    "    stride = 4\n",
    "    start = (stride-1) / 2\n",
    "    z_stride = 4\n",
    "    z_start = (z_stride-1) / 2\n",
    "    xl = ((x - start) // stride) *stride + start\n",
    "    xr = xl+stride\n",
    "    xn = xl if x-xl < xr-x else xr\n",
    "\n",
    "    yl = ((y - start) // stride) *stride + start\n",
    "    yr = yl+stride\n",
    "    yn = yl if y-yl < yr-y else yr\n",
    "\n",
    "    zl = ((z - z_start) // z_stride) *z_stride + z_start\n",
    "    zr = zl+z_stride\n",
    "    zn = zl if z-zl < zr-z else zr\n",
    "\n",
    "    return xn, yn, zn\n",
    "\n",
    "def IoU(bbox1, bbox2):\n",
    "    intersection_min = np.maximum(bbox1[:3], bbox2[:3])\n",
    "    intersection_max = np.minimum(bbox1[3:], bbox2[3:])\n",
    "    intersection_dims = np.maximum(0, intersection_max - intersection_min)\n",
    "\n",
    "    intersection_volume = np.prod(intersection_dims)\n",
    "\n",
    "    volume1 = np.prod(bbox1[3:] - bbox1[:3])\n",
    "    volume2 = np.prod(bbox2[3:] - bbox2[:3])\n",
    "    union_volume = volume1 + volume2 - intersection_volume\n",
    "\n",
    "    iou = intersection_volume / union_volume if union_volume > 0 else 0\n",
    "    return iou\n",
    "\n",
    "\n",
    "def distance(cord1, cord2):\n",
    "    return ((cord1 - cord2)**2).sum()\n",
    "\n",
    "def DIoU(cord1, shape1, cord2, shape2):\n",
    "    box1 = np.array([*cord1-shape1/2, *cord1+shape1/2])\n",
    "    box2 = np.array([*cord2-shape2/2, *cord2+shape2/2])\n",
    "\n",
    "    c1 = np.amax([box1,box2],axis=0)[3:]\n",
    "    c2 = np.amin([box1,box2],axis=0)[:3]\n",
    "\n",
    "    return IoU(box1, box2) - distance(cord1, cord2)/distance(c1, c2)"
   ]
  },
  {
   "cell_type": "code",
   "execution_count": 208,
   "metadata": {},
   "outputs": [
    {
     "data": {
      "text/plain": [
       "[29.282228000000003,\n",
       " 17.7723395,\n",
       " 47.3686525,\n",
       " 42.184572,\n",
       " 27.097534500000002,\n",
       " 55.3666995]"
      ]
     },
     "execution_count": 208,
     "metadata": {},
     "output_type": "execute_result"
    }
   ],
   "source": [
    "cord = np.array([35.7334   , 22.434937 , 51.367676])\n",
    "shape = np.array([12.902344 ,  9.325195 ,         7.998047 ])\n",
    "[*cord-shape/2, *cord+shape/2]"
   ]
  },
  {
   "cell_type": "code",
   "execution_count": 233,
   "metadata": {},
   "outputs": [
    {
     "name": "stdout",
     "output_type": "stream",
     "text": [
      "0.06666666666666667\n",
      "-0.04444444444444444\n",
      "1.0\n",
      "1.0\n",
      "1.0\n",
      "1.0\n",
      "1.0\n",
      "1.0\n"
     ]
    }
   ],
   "source": [
    "target=[[ 0      ,  0.       ,  0.       ,   4,  4.       ,         4 ],\n",
    "        [ 88.5      ,  66.       ,  96.       ,  10.       ,  13.       ,         12.999999 ],\n",
    "        [ 88.5      ,  66.       ,  96.       ,  10.       ,  13.       ,         12.999999 ],\n",
    "        [ 88.5      ,  66.       ,  96.       ,  10.       ,  12.999999 ,         12.999999 ]]\n",
    "pred = [[ 2      ,  2.       ,  2.       ,   4,  4.       ,         4 ],\n",
    "        [ 88.5      ,  66.       ,  96.       ,  10.       ,  13.       ,         12.999999 ],\n",
    "        [ 88.5      ,  66.       ,  96.       ,  10.       ,  13.       ,         12.999999 ],\n",
    "        [ 88.5      ,  66.       ,  96.       ,  10.       ,  12.999999 ,         12.999999 ]]\n",
    "target = np.array(target)\n",
    "pred = np.array(pred)\n",
    "\n",
    "# DIoU(p[:,:3], p[:,3:], t[:,:3], t[:,3:])\n",
    "for p ,t in zip(pred, target):\n",
    "    print(DIoU(p[:3], p[3:],t[:3], t[3:]))"
   ]
  },
  {
   "cell_type": "code",
   "execution_count": 190,
   "metadata": {},
   "outputs": [
    {
     "name": "stdout",
     "output_type": "stream",
     "text": [
      "[3, 845, 1475, 84] \n",
      " [0, 3, 46, 1761] \n",
      " [1, 1782, 27]\n"
     ]
    }
   ],
   "source": [
    "import json\n",
    "import os\n",
    "nodule_distribution = [0,0,0,0]\n",
    "anchor_distribution = [0 for i in range(len(anchors))]\n",
    "\n",
    "train_txt = r'F:\\master\\code\\Lung_Nodule\\FL_lung_nodule_datasplit_ME_LDCT\\client0_train.txt'\n",
    "with open(train_txt, 'r') as f:\n",
    "    train_files = f.readlines()\n",
    "anchor_count = [0,0,0]\n",
    "bad_nodule = []\n",
    "for train_file in train_files[1:]:\n",
    "    p1, p2 = train_file.replace('\\n','').split(',')\n",
    "\n",
    "    dicom_nodule_path = os.path.join(p1, 'mask', f'{p2}_nodule_count.json') # CHEST1001_nodule_count\n",
    "    with open(dicom_nodule_path, 'r') as f:\n",
    "        dicom_nodule = json.load(f)\n",
    "    nodules = dicom_nodule['bboxes']\n",
    "    for nodule in nodules:\n",
    "        good_nodule = 0\n",
    "        cx = (nodule[0][0]+nodule[1][0])/2\n",
    "        cy = (nodule[0][1]+nodule[1][1])/2\n",
    "        cz = (nodule[0][2]+nodule[1][2])/2\n",
    "        w = (nodule[1][0]-nodule[0][0])+4\n",
    "        h = (nodule[1][1]-nodule[0][1])+4\n",
    "        d = (nodule[1][2]-nodule[0][2])+4\n",
    "\n",
    "        size = (4/3)*3.1415*(h*w*d / 6)\n",
    "        if size <= 52:\n",
    "            size_idx = 0\n",
    "        elif size <= 113:\n",
    "            size_idx = 1\n",
    "        elif size <= 268:\n",
    "            size_idx = 2\n",
    "        else:\n",
    "            size_idx = 3\n",
    "\n",
    "        nodule_distribution[size_idx] += 1\n",
    "\n",
    "        nearest_point = find_nearest(cx, cy, cz)\n",
    "\n",
    "        for i, anchor in enumerate(anchors):\n",
    "            iou = IoU([cx,cy,cz], [w,h,d], nearest_point, anchor)\n",
    "            if iou >= 0.3:\n",
    "                anchor_distribution[i] += 1\n",
    "                good_nodule = 1\n",
    "                continue\n",
    "            elif iou >= 0.1 and good_nodule < 1:\n",
    "                good_nodule = 2\n",
    "\n",
    "        anchor_count[good_nodule] += 1\n",
    "        if not good_nodule:\n",
    "            bad_nodule.append([size_idx, w,h,d])\n",
    "print(anchor_distribution, '\\n', nodule_distribution, '\\n', anchor_count)"
   ]
  },
  {
   "cell_type": "code",
   "execution_count": 166,
   "metadata": {},
   "outputs": [
    {
     "data": {
      "text/plain": [
       "[[3, 7, 8, 7]]"
      ]
     },
     "execution_count": 166,
     "metadata": {},
     "output_type": "execute_result"
    }
   ],
   "source": [
    "bad_nodule"
   ]
  },
  {
   "cell_type": "code",
   "execution_count": 136,
   "metadata": {},
   "outputs": [
    {
     "data": {
      "text/plain": [
       "0.08982469602420033"
      ]
     },
     "execution_count": 136,
     "metadata": {},
     "output_type": "execute_result"
    }
   ],
   "source": [
    "a = '318.56763\t334.10632\t108.51063\t8.093452\t8.115494\t5.353752'\n",
    "b = '318.83087\t334.1272\t102.111305\t8.714816\t7.911281\t6.0994024'\n",
    "a = a.split('\\t')\n",
    "a_cord = [float(a_) for a_ in a[:3]]\n",
    "a_shape = [float(a_)+2. for a_ in a[3:]]\n",
    "b = b.split('\\t')\n",
    "b_cord = [float(b_) for b_ in b[:3]]\n",
    "b_shape = [float(b_)+2. for b_ in b[3:]]\n",
    "IoU(a_cord, a_shape, b_cord, b_shape)"
   ]
  },
  {
   "cell_type": "code",
   "execution_count": 96,
   "metadata": {},
   "outputs": [
    {
     "data": {
      "text/plain": [
       "([9.231955, 9.961705, 7.010294], [10.86131, 10.294744, 7.4044294])"
      ]
     },
     "execution_count": 96,
     "metadata": {},
     "output_type": "execute_result"
    }
   ],
   "source": [
    "a_shape, b_shape"
   ]
  },
  {
   "cell_type": "code",
   "execution_count": 41,
   "metadata": {},
   "outputs": [],
   "source": [
    "sub_path = r'F:\\master\\code\\LSSANet-main\\MsaNet_R_results\\ME_LDCT\\AdamW0.0003_Bs6x4_OHEM10_bb0\\res\\72\\FROC\\submission_rpn.csv'\n",
    "gt_path  = r'F:\\master\\code\\Lung_Nodule\\FL_lung_nodule_datasplit_ME_LDCT\\client0_test_annotation.csv'\n",
    "\n",
    "import csv\n",
    "sub_by_file = {}\n",
    "with open(sub_path, newline='') as fs:\n",
    "    subs = csv.reader(fs,)\n",
    "    for sub in subs:\n",
    "        if sub[0] in sub_by_file.keys():\n",
    "            sub_by_file[sub[0]].append([float(xyzhwd) for xyzhwd in sub[1:8]])\n",
    "        elif sub[0] != 'series_id':\n",
    "            sub_by_file[sub[0]] = [[float(xyzhwd) for xyzhwd in sub[1:8]]]\n",
    "\n",
    "gt_by_file  = {}\n",
    "with open(gt_path, newline='') as fg:\n",
    "    gts = csv.reader(fg)\n",
    "    for gt in gts:\n",
    "        if gt[0] in gt_by_file.keys():\n",
    "            gt_by_file[gt[0]].append([float(xyzhwd) for xyzhwd in gt[1:8]])\n",
    "        elif gt[0] != 'series_id':\n",
    "            gt_by_file[gt[0]] = [[float(xyzhwd) for xyzhwd in gt[1:8]]]\n",
    "\n",
    "files = list(gt_by_file.keys())\n"
   ]
  },
  {
   "cell_type": "code",
   "execution_count": 26,
   "metadata": {},
   "outputs": [],
   "source": [
    "TP = []\n",
    "FN = []\n",
    "gt_IoU = []\n",
    "gt_DIoU = []\n",
    "for file in files:\n",
    "    gts = gt_by_file[file]\n",
    "    subs = sub_by_file[file]\n",
    "    for gt in gts:\n",
    "        is_cand = 0\n",
    "        re_detected = 0\n",
    "        max_iou = 0.0\n",
    "        max_diou = 0.0\n",
    "        gt_cord, gt_shape = gt[:3], gt[3:6]\n",
    "        for sub in subs:\n",
    "            iou = IoU(gt_cord, gt_shape, sub[:3], sub[3:6])\n",
    "            if iou >= 0.1:\n",
    "                if is_cand:\n",
    "                    re_detected += 1\n",
    "                is_cand = 1\n",
    "            max_iou = max(max_iou, iou)\n",
    "            max_diou = max(max_diou, DIoU(gt_cord, gt_shape, sub[:3], sub[3:6]))\n",
    "        gt_IoU.append([max_iou, max_diou])\n",
    "        gt_DIoU.append(max_diou)\n",
    "        if is_cand:\n",
    "            TP.append(max_iou)\n",
    "        else:\n",
    "            FN.append(max_iou)\n",
    "                "
   ]
  },
  {
   "cell_type": "code",
   "execution_count": 45,
   "metadata": {},
   "outputs": [],
   "source": [
    "import os\n",
    "import numpy as np\n",
    "import warnings\n",
    "import json\n",
    "from single_config import config\n",
    "from scipy.ndimage import zoom\n",
    "\n",
    "def crop_with_lobe(z:str, yx:str):\n",
    "    zlobe = z.replace('\\n','').split(',')\n",
    "    Ds, De = [int(z_) for z_ in zlobe]\n",
    "    yxlobe = yx.replace('\\n','').split(',')\n",
    "    Hs, He, Ws, We = [int(yx_) for yx_ in yxlobe]\n",
    "    \n",
    "    # align to 16\n",
    "    align = 16\n",
    "    Ds = (Ds//align)*align\n",
    "    De = ((De+align-1)//align)*align\n",
    "    Hs = (Hs//align)*align\n",
    "    He = ((He+align-1)//align)*align\n",
    "    Ws = (Ws//align)*align\n",
    "    We = ((We+align-1)//align)*align\n",
    "\n",
    "    return (Ds, De, Hs, He, Ws, We)\n",
    "\n",
    "def load_img(filename):\n",
    "    path, dir = filename.split(',')\n",
    "    img = np.load('%s\\\\npy\\\\%s.npy' % (path, dir))\n",
    "    # img = img[np.newaxis,...] # (y, x, z) -> (1, y, x, z)\n",
    "    ## load lobe info\n",
    "    with open('%s\\\\npy\\\\lobe_info.txt' %(path)) as f:\n",
    "        lobe_info = f.readlines()[-2:]\n",
    "    with open('%s\\\\mask\\\\%s_nodule_count.json' % (path, dir)) as f:\n",
    "        nodule_count = json.load(f)\n",
    "    bboxes = nodule_count['bboxes']\n",
    "    Ds, De, Hs, He, Ws, We = crop_with_lobe(*lobe_info)\n",
    "    # crop the lobe\n",
    "    img = img[np.newaxis, Hs:He, Ws:We, Ds:De]\n",
    "\n",
    "    img = np.clip(img, -1000, 400)\n",
    "    img = img.astype(np.float32)\n",
    "    img = img.transpose(0, 3, 1, 2) # (1, y, x, z) -> (1, z, y, x)\n",
    "    images = img + 1000    # 0 ~ max\n",
    "    images = (images - 700) / 700 # -1 ~ 1\n",
    "    return images, (Ds, De, Hs, He, Ws, We), bboxes\n",
    "\n",
    "class Crop(object):\n",
    "    def __init__(self, config):\n",
    "        self.crop_size = config['crop_size']\n",
    "        self.bound_size = config['bound_size']\n",
    "        self.stride = config['stride']\n",
    "        self.pad_value = config['pad_value']\n",
    "\n",
    "    def __call__(self, imgs, target, bboxes, lobe=None, isScale=False, isRand=False):\n",
    "        '''\n",
    "        img: 3D image loading from npy, (1, d, h, w)\n",
    "        target: one nodule\n",
    "        bboxes: all nodules in series\n",
    "        '''\n",
    "        if isScale:\n",
    "            radiusLim = [8.,120.]\n",
    "            scaleLim = [0.75,1.25]\n",
    "            scaleRange = [np.min([np.max([(radiusLim[0]/target[3]),scaleLim[0]]),1])\n",
    "                         ,np.max([np.min([(radiusLim[1]/target[3]),scaleLim[1]]),1])]\n",
    "            scale = np.random.rand()*(scaleRange[1]-scaleRange[0])+scaleRange[0]\n",
    "            crop_size = (np.array(self.crop_size).astype('float')/scale).astype('int')\n",
    "        else:\n",
    "            crop_size = self.crop_size\n",
    "        bound_size = self.bound_size\n",
    "        target = np.copy(target)\n",
    "        bboxes = np.copy(bboxes)\n",
    "        start = []\n",
    "        for i in range(3):\n",
    "            # start.append(int(target[i] - crop_size[i] / 2))\n",
    "            if not isRand:\n",
    "                # crop the sample base on target\n",
    "                r = target[i+3]/2\n",
    "                s = np.floor(target[i] - r) + 1 - bound_size\n",
    "                e = np.ceil(target[i] + r) + 1 + bound_size - crop_size[i]\n",
    "            else:\n",
    "                # crop the sample randomly\n",
    "                s = np.max([imgs.shape[i+1]-crop_size[i]/2, imgs.shape[i+1]/2+bound_size])\n",
    "                e = np.min([crop_size[i]/2, imgs.shape[i+1]/2-bound_size])\n",
    "                target = np.array([np.nan, np.nan, np.nan, np.nan])\n",
    "            if s > e:\n",
    "                i_start = np.random.randint(e, s)\n",
    "                i_start = max(min(i_start, imgs.shape[i+1]-crop_size[i]),0)\n",
    "                start.append(i_start)#!\n",
    "            else:\n",
    "                start.append(int(target[i])-crop_size[i]/2+np.random.randint(-bound_size/2,bound_size/2))\n",
    "\n",
    "        coord=[]\n",
    "        pad = []\n",
    "        pad.append([0,0])\n",
    "\n",
    "        for i in range(3):\n",
    "            leftpad = max(0,-start[i]) # how many pixel need to pad on the left side\n",
    "            rightpad = max(0,start[i]+crop_size[i]-imgs.shape[i+1]) # how many pixel need to pad on the right side\n",
    "            pad.append([leftpad,rightpad])\n",
    "            \n",
    "        crop = imgs[:,\n",
    "            int(max(start[0],0)):int(min(start[0] + int(crop_size[0]),imgs.shape[1])),\n",
    "            int(max(start[1],0)):int(min(start[1] + int(crop_size[1]),imgs.shape[2])),\n",
    "            int(max(start[2],0)):int(min(start[2] + int(crop_size[2]),imgs.shape[3]))]\n",
    "\n",
    "        crop = np.pad(crop, pad, 'constant', constant_values=0.67142)\n",
    "        for i in range(3):\n",
    "            target[i] = target[i] - start[i]\n",
    "        for i in range(len(bboxes)):\n",
    "            for j in range(3):\n",
    "                bboxes[i][j] = bboxes[i][j] - start[j]\n",
    "\n",
    "        if isScale:\n",
    "            with warnings.catch_warnings():\n",
    "                warnings.simplefilter(\"ignore\")\n",
    "                crop = zoom(crop, [1, scale, scale, scale], order=1)\n",
    "            newpad = self.crop_size[0] - crop.shape[1:][0]\n",
    "            if newpad < 0:\n",
    "                crop = crop[:, :-newpad, :-newpad, :-newpad]\n",
    "            elif newpad > 0:\n",
    "                pad2 = [[0, 0], [0, newpad], [0, newpad], [0, newpad]]\n",
    "                crop = np.pad(crop, pad2, 'constant', constant_values=0.67142)\n",
    "            for i in range(6):\n",
    "                target[i] = target[i] * scale\n",
    "            for i in range(len(bboxes)):\n",
    "                for j in range(6):\n",
    "                    bboxes[i][j] = bboxes[i][j] * scale\n",
    "\n",
    "        return crop, target, bboxes, coord\n",
    "\n",
    "crop = Crop(config)"
   ]
  },
  {
   "cell_type": "code",
   "execution_count": null,
   "metadata": {},
   "outputs": [],
   "source": [
    "test_txt = r'F:\\master\\code\\Lung_Nodule\\FL_lung_nodule_datasplit_ME_LDCT\\client0_test.txt'\n",
    "with open(test_txt, 'r') as f:\n",
    "    files = f.readlines()\n",
    "imgs, lobe_info, bboxes = load_img(files[1])\n",
    "bboxes = bboxes - [lobe_info[0], lobe_info[2], lobe_info[4], 0, 0, 0]\n",
    "for bbox in bboxes:\n",
    "    sample, target, bboxes, coord = crop(imgs, bbox, bboxes, isScale=False, isRand=False)\n",
    "    "
   ]
  },
  {
   "cell_type": "code",
   "execution_count": 123,
   "metadata": {},
   "outputs": [],
   "source": [
    "import os\n",
    "import json\n",
    "import numpy as np\n",
    "from utils.util import crop_with_lobe\n",
    "test_dicom_npy = r'F:\\master\\code\\Lung_Nodule\\dataset\\LDCT_test_dataset\\CHESTCT_Test0014\\npy\\CHESTCT_Test0014.npy'\n",
    "test_dicom_info = r'F:\\master\\code\\Lung_Nodule\\dataset\\LDCT_test_dataset\\CHESTCT_Test0014\\mask\\CHESTCT_Test0014_nodule_count.json'\n",
    "test_dicom_lobe = r'F:\\master\\code\\Lung_Nodule\\dataset\\LDCT_test_dataset\\CHESTCT_Test0014\\npy\\lobe_info.txt'\n",
    "\n",
    "filename = [r'F:\\master\\code\\Lung_Nodule\\dataset\\LDCT_test_dataset\\CHESTCT_Test0014', 'CHESTCT_Test0014']\n",
    "path, dir = filename\n",
    "img = np.load(os.path.join('%s\\\\npy\\\\%s.npy' % (path, dir)))\n",
    "img = img[np.newaxis,...] # (y, x, z) -> (1, y, x, z)\n",
    "## load lobe info\n",
    "with open(os.path.join('%s\\\\npy\\\\lobe_info.txt' %(path))) as f:\n",
    "    # ['z_start,z_end\\n',\n",
    "    #  'y_start,y_end,x_start,x_end']\n",
    "    lobe_info = f.readlines()[-2:]\n",
    "    lobes = crop_with_lobe(*lobe_info)\n",
    "\n",
    "with open(test_dicom_info, 'r') as f:\n",
    "    dicom_info = json.load(f)\n",
    "    nodules = dicom_info[\"bboxes\"]\n",
    "bboxes = []\n",
    "for nodule in nodules:\n",
    "    nodule = np.array(nodule)\n",
    "    cx, cy, cz = (nodule[1,:] + nodule[0,:]+1) /2\n",
    "    w,  h,  d  = (nodule[1,:] - nodule[0,:]+1)\n",
    "    bboxes.append(np.array([0.,cz, cy, cx, d, h, w]))\n",
    "bboxes = np.array(bboxes)"
   ]
  },
  {
   "cell_type": "code",
   "execution_count": 121,
   "metadata": {},
   "outputs": [
    {
     "data": {
      "text/plain": [
       "(16, 288, 128, 400, 64, 448)"
      ]
     },
     "execution_count": 121,
     "metadata": {},
     "output_type": "execute_result"
    }
   ],
   "source": [
    "lobes"
   ]
  },
  {
   "cell_type": "code",
   "execution_count": 124,
   "metadata": {},
   "outputs": [
    {
     "data": {
      "text/plain": [
       "array([[  0. ,  71.5, 171. , 332.5,   5. ,   6. ,   7. ],\n",
       "       [  0. , 251.5, 407. , 335. ,   9. ,  10. ,  12. ],\n",
       "       [  0. , 141. , 185.5, 368.5,   6. ,   7. ,   5. ]])"
      ]
     },
     "execution_count": 124,
     "metadata": {},
     "output_type": "execute_result"
    }
   ],
   "source": [
    "bboxes"
   ]
  },
  {
   "cell_type": "code",
   "execution_count": 138,
   "metadata": {},
   "outputs": [
    {
     "name": "stdout",
     "output_type": "stream",
     "text": [
      "87 214 364 overlapped with nodule\n",
      "81 248 223\n"
     ]
    }
   ],
   "source": [
    "from utils.pybox import *\n",
    "import torch\n",
    "while True:\n",
    "    overlap_nodule = False\n",
    "    rz = np.random.randint(lobes[0]+64, lobes[1]-64)\n",
    "    ry = np.random.randint(lobes[2]+64, lobes[3]-64)\n",
    "    rx = np.random.randint(lobes[4]+64, lobes[5]-64)\n",
    "    overlaps = torch_overlap(bboxes[:,-6:], np.array([rz, ry, rx, 128, 128, 128]))\n",
    "    for overlap in overlaps:\n",
    "        if overlap[0] > 0.00:\n",
    "            overlap_nodule = True\n",
    "            break\n",
    "    if not overlap_nodule:\n",
    "        break\n",
    "    else:\n",
    "        print(f'{rz} {ry} {rx} overlapped with nodule')\n",
    "print(rz, ry, rx)\n",
    "\n"
   ]
  },
  {
   "cell_type": "code",
   "execution_count": 73,
   "metadata": {},
   "outputs": [
    {
     "ename": "ValueError",
     "evalue": "axes don't match array",
     "output_type": "error",
     "traceback": [
      "\u001b[1;31m---------------------------------------------------------------------------\u001b[0m",
      "\u001b[1;31mValueError\u001b[0m                                Traceback (most recent call last)",
      "Cell \u001b[1;32mIn[73], line 7\u001b[0m\n\u001b[0;32m      5\u001b[0m img \u001b[38;5;241m=\u001b[39m np\u001b[38;5;241m.\u001b[39mclip(img, \u001b[38;5;241m-\u001b[39m\u001b[38;5;241m1000\u001b[39m, \u001b[38;5;241m400\u001b[39m)\n\u001b[0;32m      6\u001b[0m img \u001b[38;5;241m=\u001b[39m img\u001b[38;5;241m.\u001b[39mastype(np\u001b[38;5;241m.\u001b[39mfloat32)\n\u001b[1;32m----> 7\u001b[0m img \u001b[38;5;241m=\u001b[39m \u001b[43mimg\u001b[49m\u001b[38;5;241;43m.\u001b[39;49m\u001b[43mtranspose\u001b[49m\u001b[43m(\u001b[49m\u001b[38;5;241;43m0\u001b[39;49m\u001b[43m,\u001b[49m\u001b[43m \u001b[49m\u001b[38;5;241;43m3\u001b[39;49m\u001b[43m,\u001b[49m\u001b[43m \u001b[49m\u001b[38;5;241;43m1\u001b[39;49m\u001b[43m,\u001b[49m\u001b[43m \u001b[49m\u001b[38;5;241;43m2\u001b[39;49m\u001b[43m)\u001b[49m \u001b[38;5;66;03m# (1, y, x, z) -> (1, z, y, x)\u001b[39;00m\n\u001b[0;32m      8\u001b[0m images \u001b[38;5;241m=\u001b[39m img \u001b[38;5;241m+\u001b[39m \u001b[38;5;241m1000\u001b[39m    \u001b[38;5;66;03m# 0 ~ max\u001b[39;00m\n\u001b[0;32m      9\u001b[0m images \u001b[38;5;241m=\u001b[39m (images \u001b[38;5;241m-\u001b[39m \u001b[38;5;241m700\u001b[39m) \u001b[38;5;241m/\u001b[39m \u001b[38;5;241m700\u001b[39m \u001b[38;5;66;03m# -1 ~ 1\u001b[39;00m\n",
      "\u001b[1;31mValueError\u001b[0m: axes don't match array"
     ]
    }
   ],
   "source": [
    "Ds, De, Hs, He, Ws, We = crop_with_lobe(*lobe_info)\n",
    "# crop the lobe\n",
    "img = img[np.newaxis, Hs:He, Ws:We, Ds:De]\n",
    "\n",
    "img = np.clip(img, -1000, 400)\n",
    "img = img.astype(np.float32)\n",
    "img = img.transpose(0, 3, 1, 2) # (1, y, x, z) -> (1, z, y, x)\n",
    "images = img + 1000    # 0 ~ max\n",
    "images = (images - 700) / 700 # -1 ~ 1"
   ]
  },
  {
   "cell_type": "code",
   "execution_count": 126,
   "metadata": {},
   "outputs": [
    {
     "name": "stdout",
     "output_type": "stream",
     "text": [
      "146 308 317\n"
     ]
    },
    {
     "data": {
      "text/plain": [
       "tensor([[0., 0., 0., 0., 0., 0.],\n",
       "        [0., 0., 0., 0., 0., 0.],\n",
       "        [0., 0., 0., 0., 0., 0.]])"
      ]
     },
     "execution_count": 126,
     "metadata": {},
     "output_type": "execute_result"
    }
   ],
   "source": [
    "rz = np.random.randint(lobes[0]+64, lobes[1]-64)\n",
    "ry = np.random.randint(lobes[2]+64, lobes[3]-64)\n",
    "rx = np.random.randint(lobes[4]+64, lobes[5]-64)\n",
    "print(rz, ry, rx)\n",
    "torch_overlap(bboxes[:,-6:], np.array([rx, ry, rz, 128, 128,128]))"
   ]
  },
  {
   "cell_type": "code",
   "execution_count": 183,
   "metadata": {},
   "outputs": [],
   "source": [
    "a = np.array([i for i in range(10)])\n",
    "p = np.array([0.1 for i in range(10)])"
   ]
  },
  {
   "cell_type": "code",
   "execution_count": 184,
   "metadata": {},
   "outputs": [],
   "source": [
    "count = np.array([0 for i in range(10)])\n",
    "for i in range(1000):\n",
    "    idcs = np.random.choice(len(a), 2, replace=False)\n",
    "    count[idcs] += 1"
   ]
  },
  {
   "cell_type": "markdown",
   "metadata": {},
   "source": [
    "random choice"
   ]
  },
  {
   "cell_type": "code",
   "execution_count": 185,
   "metadata": {},
   "outputs": [
    {
     "data": {
      "text/plain": [
       "array([201, 217, 185, 203, 194, 188, 193, 223, 218, 178])"
      ]
     },
     "execution_count": 185,
     "metadata": {},
     "output_type": "execute_result"
    }
   ],
   "source": [
    "count"
   ]
  },
  {
   "cell_type": "code",
   "execution_count": 186,
   "metadata": {},
   "outputs": [],
   "source": [
    "count2 = np.array([0 for i in range(10)])\n",
    "for i in range(1000):\n",
    "    idcs = np.random.choice(len(a), 2, replace=False, p=p)\n",
    "    p[idcs] *= 0.5\n",
    "    p /= p.sum()\n",
    "    count2[idcs]+=1"
   ]
  },
  {
   "cell_type": "markdown",
   "metadata": {},
   "source": [
    "choice with weight p"
   ]
  },
  {
   "cell_type": "code",
   "execution_count": 187,
   "metadata": {},
   "outputs": [
    {
     "data": {
      "text/plain": [
       "array([198, 201, 200, 199, 200, 200, 200, 201, 200, 201])"
      ]
     },
     "execution_count": 187,
     "metadata": {},
     "output_type": "execute_result"
    }
   ],
   "source": [
    "count2"
   ]
  },
  {
   "cell_type": "code",
   "execution_count": 192,
   "metadata": {},
   "outputs": [
    {
     "data": {
      "text/plain": [
       "209.0"
      ]
     },
     "execution_count": 192,
     "metadata": {},
     "output_type": "execute_result"
    }
   ],
   "source": [
    "count.var()"
   ]
  },
  {
   "cell_type": "code",
   "execution_count": 193,
   "metadata": {},
   "outputs": [
    {
     "data": {
      "text/plain": [
       "0.8"
      ]
     },
     "execution_count": 193,
     "metadata": {},
     "output_type": "execute_result"
    }
   ],
   "source": [
    "count2.var()"
   ]
  },
  {
   "cell_type": "code",
   "execution_count": 81,
   "metadata": {},
   "outputs": [
    {
     "name": "stdout",
     "output_type": "stream",
     "text": [
      "749 251\n"
     ]
    }
   ],
   "source": [
    "import numpy as np\n",
    "decay = 0.9\n",
    "w = np.array([0.25,0.25,0.25,0.25])\n",
    "p = 0.75\n",
    "pos = 0\n",
    "neg = 0\n",
    "for i in range(1000):\n",
    "    idx = np.random.choice(4,1,p=w)\n",
    "    if idx <= 2:\n",
    "        pos +=1\n",
    "    else:\n",
    "        neg +=1\n",
    "        # w *= decay\n",
    "    w[idx] *= decay\n",
    "    w /= w.sum()\n",
    "\n",
    "print(pos, neg)"
   ]
  },
  {
   "cell_type": "code",
   "execution_count": 51,
   "metadata": {},
   "outputs": [
    {
     "data": {
      "text/plain": [
       "1.2345679012345678"
      ]
     },
     "execution_count": 51,
     "metadata": {},
     "output_type": "execute_result"
    }
   ],
   "source": [
    "w"
   ]
  },
  {
   "cell_type": "code",
   "execution_count": 104,
   "metadata": {},
   "outputs": [
    {
     "data": {
      "text/plain": [
       "0.049309694441802776"
      ]
     },
     "execution_count": 104,
     "metadata": {},
     "output_type": "execute_result"
    }
   ],
   "source": [
    "np.random.rand()"
   ]
  },
  {
   "cell_type": "code",
   "execution_count": 73,
   "metadata": {},
   "outputs": [],
   "source": [
    "from dataset.bbox_reader_neg_nodulebased import BboxReader_NegNB\n",
    "from single_config import config, datasets_info\n",
    "data_dir = r'F:\\master\\code\\Lung_Nodule\\dataset\\ME_dataset'\n",
    "set_name = r'F:\\master\\code\\Lung_Nodule\\FL_lung_nodule_datasplit_ME_LDCT\\client0_train.txt'\n",
    "augtype = config['augtype']\n",
    "dataset = BboxReader_NegNB(data_dir, set_name, augtype, config, mode='train')\n"
   ]
  },
  {
   "cell_type": "code",
   "execution_count": 74,
   "metadata": {},
   "outputs": [],
   "source": [
    "from torch.utils.data import DataLoader\n",
    "from dataset.collate import train_collate\n",
    "train_loader = DataLoader(dataset, batch_size=6, shuffle=True,\n",
    "                              num_workers=6, pin_memory=True, collate_fn=train_collate, drop_last=True)"
   ]
  },
  {
   "cell_type": "code",
   "execution_count": 75,
   "metadata": {},
   "outputs": [],
   "source": [
    "loader = iter(train_loader)\n",
    "data = next(loader)"
   ]
  },
  {
   "cell_type": "code",
   "execution_count": 78,
   "metadata": {},
   "outputs": [
    {
     "data": {
      "text/plain": [
       "torch.Size([6, 1, 128, 128, 128])"
      ]
     },
     "execution_count": 78,
     "metadata": {},
     "output_type": "execute_result"
    }
   ],
   "source": [
    "inputs, box, label = data\n",
    "inputs.shape"
   ]
  },
  {
   "cell_type": "code",
   "execution_count": null,
   "metadata": {},
   "outputs": [],
   "source": [
    "for j, (input, truth_box, truth_label) in enumerate(train_loader):\n",
    "    print(truth_label[:,0])"
   ]
  },
  {
   "cell_type": "code",
   "execution_count": 22,
   "metadata": {},
   "outputs": [],
   "source": [
    "import numpy as np \n",
    "\n",
    "if np.random.choice(4, 1, p=[0.25,0.25,0.25,0.25]) < 2:\n",
    "    print('True')"
   ]
  },
  {
   "cell_type": "code",
   "execution_count": 26,
   "metadata": {},
   "outputs": [
    {
     "data": {
      "text/plain": [
       "439"
      ]
     },
     "execution_count": 26,
     "metadata": {},
     "output_type": "execute_result"
    }
   ],
   "source": [
    "int(np.round(439.49))"
   ]
  },
  {
   "cell_type": "code",
   "execution_count": 38,
   "metadata": {},
   "outputs": [
    {
     "name": "stdout",
     "output_type": "stream",
     "text": [
      "0.6196473551637279 \n",
      " 0.6351118760755053 \n",
      " 0.6272843178919424\n"
     ]
    }
   ],
   "source": [
    "tpr = 61.9647355163728\n",
    "tnr = 99.99930071969138\n",
    "tol_pos = 1191\n",
    "tol_neg = 60633768\n",
    "recall = tpr/100\n",
    "precision = (tpr*tol_pos) / (tpr*tol_pos + (100-tnr)*tol_neg)\n",
    "f1 = 2*recall*precision/(recall+precision)\n",
    "print(recall,'\\n',precision,'\\n',f1)"
   ]
  },
  {
   "cell_type": "code",
   "execution_count": 141,
   "metadata": {},
   "outputs": [],
   "source": [
    "from evaluationScript.tools import csvTools\n",
    "anno_path = r'F:\\master\\code\\LSSANet-main\\MsaNet_R_results\\ME_LDCT\\AdamW0.0003_Bs6x4_OHEM10_bb0_trueOHEM\\res\\81\\FROC\\submission_rpn.csv'\n",
    "annotations = csvTools.readCSV(anno_path)"
   ]
  },
  {
   "cell_type": "code",
   "execution_count": 142,
   "metadata": {},
   "outputs": [],
   "source": [
    "dicom_nodules = {}\n",
    "for anno in annotations[1:]:\n",
    "    sid, x, y, z, w, h, d, prob = anno\n",
    "    if sid in dicom_nodules.keys():\n",
    "        dicom_nodules[sid] = np.append(dicom_nodules[sid],np.array([[float(prob),float(x),float(y),float(z),float(w),float(h),float(d)]]),axis=0)\n",
    "    else:\n",
    "        dicom_nodules[sid] = np.array([[float(prob),float(x),float(y),float(z),float(w),float(h),float(d)]])"
   ]
  },
  {
   "cell_type": "code",
   "execution_count": 143,
   "metadata": {},
   "outputs": [],
   "source": [
    "from utils.pybox import torch_nms\n",
    "import torch\n",
    "import pandas as pd\n",
    "res_anno = []\n",
    "col_names = ['series_id', 'x_center', 'y_center', 'z_center', 'w_mm', 'h_mm', 'd_mm', 'probability']\n",
    "rpn_submission_path = r'F:\\master\\code\\LSSANet-main\\MsaNet_R_results\\ME_LDCT\\AdamW0.0003_Bs6x4_OHEM10_bb0_trueOHEM\\res\\81\\FROC\\submission_rpn_nms.csv'\n",
    "for key in dicom_nodules.keys():\n",
    "    nodules = dicom_nodules[key] + [0,0,0,0,2,2,2]\n",
    "    _, keep = torch_nms(torch.from_numpy(nodules.astype(np.float32)), 0.1)\n",
    "    outs = dicom_nodules[key][keep]\n",
    "    if len(keep) == 1:\n",
    "        outs = [outs]\n",
    "    for out in outs:\n",
    "        res_anno.append([key, str(out[1]), str(out[2]), str(out[3]), str(out[4]), str(out[5]), str(out[6]), str(out[0])])\n",
    "\n",
    "df = pd.DataFrame(res_anno, columns=col_names)\n",
    "df.to_csv(rpn_submission_path, index=False)"
   ]
  },
  {
   "cell_type": "code",
   "execution_count": 14,
   "metadata": {},
   "outputs": [
    {
     "data": {
      "text/plain": [
       "array([[-0.15525517,  0.19141471, -0.21032706,  0.96144958,  1.59379141,\n",
       "         1.24662869],\n",
       "       [ 0.13331018, -0.26620126,  0.16050524,  0.82845624,  0.82099605,\n",
       "         0.77365738],\n",
       "       [-0.02921804, -0.0392191 ,  0.10936578,  0.99105797,  0.90804561,\n",
       "         1.33544733]])"
      ]
     },
     "execution_count": 14,
     "metadata": {},
     "output_type": "execute_result"
    }
   ],
   "source": [
    "import numpy as np\n",
    "offset_ratio = 0.3\n",
    "r = np.random.rand(3,6)\n",
    "r[:,:3] = r[:,:3]* (2*offset_ratio) - offset_ratio\n",
    "r[:,3:] = r[:,3:]* (4*offset_ratio) + (1-2*offset_ratio) \n",
    "r"
   ]
  },
  {
   "cell_type": "code",
   "execution_count": 7,
   "metadata": {},
   "outputs": [
    {
     "data": {
      "text/plain": [
       "array([[0.02037814, 0.29622117, 0.1026084 , 0.06735228, 0.46886298,\n",
       "        0.3733121 ],\n",
       "       [0.69613119, 0.74726365, 0.32587972, 0.17928147, 0.36727735,\n",
       "        0.74830827],\n",
       "       [0.41786589, 0.50988561, 0.17664829, 0.43305144, 0.36943331,\n",
       "        0.01211162]])"
      ]
     },
     "execution_count": 7,
     "metadata": {},
     "output_type": "execute_result"
    }
   ],
   "source": [
    "np.random.rand(3,6)"
   ]
  },
  {
   "cell_type": "code",
   "execution_count": 23,
   "metadata": {},
   "outputs": [],
   "source": [
    "def ext2factor(arr, factor = 8):\n",
    "    arr[:,-3:] = (arr[:,-3:]+(factor-1))//factor *factor\n",
    "    return arr\n",
    "def "
   ]
  },
  {
   "cell_type": "code",
   "execution_count": 24,
   "metadata": {},
   "outputs": [],
   "source": [
    "a = np.array([[  1.0000,   0.8276,  83.1051, 103.0656,  97.2462,   6.0293,   8.1079,  8.2207],\n",
    "            [  1.0000,   0.8276,  84.2130, 100.7422,  95.9456,   6.3478,   9.6913,   8.7561],\n",
    "            [  1.0000,   0.8276,  83.1589, 104.3448,  97.2556,   8.9599,  12.2215,   6.3697],\n",
    "            [  1.0000,   0.8276,  83.6657, 102.6938,  96.9911,   7.3578,   7.4695,  11.9133],\n",
    "            [  1.0000,   0.7686,  71.2205,  93.9699,  65.5282,   5.8052,   7.8003,   7.9395],\n",
    "            [  1.0000,   0.7686,  72.3069,  96.1436,  65.8831,   8.1346,   8.0926,  11.9795],\n",
    "            [  1.0000,   0.7686,  70.7343,  94.8019,  67.8421,   5.7376,   9.0122,   8.2947],\n",
    "            [  1.0000,   0.7686,  69.8497,  93.8442,  64.0835,   8.2857,  11.9549,  11.9151]])\n",
    "\n",
    "a = a[:,[0,2,3,4,5,6,7]].astype(np.int32)\n",
    "a = ext2factor(a, factor=8)"
   ]
  },
  {
   "cell_type": "code",
   "execution_count": 25,
   "metadata": {},
   "outputs": [
    {
     "data": {
      "text/plain": [
       "array([[  1,  83, 103,  97,   8,   8,   8],\n",
       "       [  1,  84, 100,  95,   8,  16,   8],\n",
       "       [  1,  83, 104,  97,   8,  16,   8],\n",
       "       [  1,  83, 102,  96,   8,   8,  16],\n",
       "       [  1,  71,  93,  65,   8,   8,   8],\n",
       "       [  1,  72,  96,  65,   8,   8,  16],\n",
       "       [  1,  70,  94,  67,   8,  16,   8],\n",
       "       [  1,  69,  93,  64,   8,  16,  16]])"
      ]
     },
     "execution_count": 25,
     "metadata": {},
     "output_type": "execute_result"
    }
   ],
   "source": [
    "a"
   ]
  },
  {
   "cell_type": "code",
   "execution_count": 46,
   "metadata": {},
   "outputs": [
    {
     "name": "stdout",
     "output_type": "stream",
     "text": [
      "[[[ 0.58652611 -0.08603455  1.50398733 -0.36092358  0.56573136\n",
      "    0.9860972 ]\n",
      "  [ 0.85878529  1.92066709 -1.3503354  -0.34804173 -0.52167635\n",
      "    0.46349816]\n",
      "  [-0.55351909  0.47625656  1.33297321  0.27401318 -1.5684168\n",
      "   -1.07712571]\n",
      "  [-1.91666554  0.54255647 -1.09073866  0.07678744 -0.13973057\n",
      "    1.10318014]]\n",
      "\n",
      " [[-0.81955314  0.0975312  -0.78889382 -0.02940587 -1.22535726\n",
      "    0.46930628]\n",
      "  [ 0.34801056 -1.74838815  1.40443309 -0.8201392   0.67418694\n",
      "    0.44477293]\n",
      "  [ 0.76509467 -2.90221815  0.39322361  0.33112346 -0.17325017\n",
      "    0.29825359]\n",
      "  [-1.63673518  1.33871714  0.2017215   0.38491992 -0.25858403\n",
      "   -1.45034208]]\n",
      "\n",
      " [[-0.25509721 -0.99032769 -0.75205615  1.44849796 -1.05677967\n",
      "    0.04867981]\n",
      "  [ 0.68567483 -0.02200537 -1.46960665  0.1385924   0.26559375\n",
      "    0.94404135]\n",
      "  [ 1.63269586 -0.23848062 -1.13844966 -0.25708323 -1.21329134\n",
      "   -0.13339221]\n",
      "  [-0.06256229  0.374907    1.01982907  0.14659279 -0.78167734\n",
      "   -0.34733871]]] tensor([[[ 0.5865, -0.0860,  1.5040, -0.3609,  0.5657,  0.9861],\n",
      "         [ 0.8588,  1.9207, -1.3503, -0.3480, -0.5217,  0.4635],\n",
      "         [-0.5535,  0.4763,  1.3330,  0.2740, -1.5684, -1.0771],\n",
      "         [-1.9167,  0.5426, -1.0907,  0.0768, -0.1397,  1.1032]],\n",
      "\n",
      "        [[-0.8196,  0.0975, -0.7889, -0.0294, -1.2254,  0.4693],\n",
      "         [ 0.3480, -1.7484,  1.4044, -0.8201,  0.6742,  0.4448],\n",
      "         [ 0.7651, -2.9022,  0.3932,  0.3311, -0.1733,  0.2983],\n",
      "         [-1.6367,  1.3387,  0.2017,  0.3849, -0.2586, -1.4503]],\n",
      "\n",
      "        [[-0.2551, -0.9903, -0.7521,  1.4485, -1.0568,  0.0487],\n",
      "         [ 0.6857, -0.0220, -1.4696,  0.1386,  0.2656,  0.9440],\n",
      "         [ 1.6327, -0.2385, -1.1384, -0.2571, -1.2133, -0.1334],\n",
      "         [-0.0626,  0.3749,  1.0198,  0.1466, -0.7817, -0.3473]]],\n",
      "       dtype=torch.float64)\n"
     ]
    }
   ],
   "source": [
    "import torch\n",
    "import numpy as np\n",
    "arr = np.random.randn(3,4,6)\n",
    "tensor = torch.from_numpy(arr)\n",
    "print(arr, tensor)\n"
   ]
  },
  {
   "cell_type": "code",
   "execution_count": 69,
   "metadata": {},
   "outputs": [],
   "source": [
    "def clip_delta_variance(deltas, threshold):\n",
    "    deltas = deltas.view(-1,4,6)\n",
    "    var = torch.var(deltas, dim=1, unbiased=False)\n",
    "    mean_var = torch.mean(var, dim=1)\n",
    "    print(var, var.shape, mean_var)\n",
    "    keeps = torch.where(mean_var<=threshold)\n",
    "    return deltas[keeps,0], keeps\n",
    "\n",
    "def clip_delta_variance_np(deltas, threshold):\n",
    "    deltas = deltas.reshape(-1,4,6)\n",
    "    var = np.var(deltas, axis=1)\n",
    "    mean_var = np.mean(var, axis=1)\n",
    "    print(var, var.shape, mean_var)\n",
    "    keeps = np.where(mean_var<=threshold)\n",
    "    return deltas[keeps,0], keeps"
   ]
  },
  {
   "cell_type": "code",
   "execution_count": 70,
   "metadata": {},
   "outputs": [
    {
     "name": "stdout",
     "output_type": "stream",
     "text": [
      "tensor([[1.1997, 0.5455, 1.7532, 0.0751, 0.5948, 0.7550],\n",
      "        [0.9015, 2.6746, 0.6059, 0.2317, 0.4528, 0.6491],\n",
      "        [0.5510, 0.2467, 0.9231, 0.4150, 0.3324, 0.2416]], dtype=torch.float64) torch.Size([3, 6]) tensor([0.8206, 0.9193, 0.4516], dtype=torch.float64)\n"
     ]
    },
    {
     "data": {
      "text/plain": [
       "(tensor([[-0.2551, -0.9903, -0.7521,  1.4485, -1.0568,  0.0487]],\n",
       "        dtype=torch.float64),\n",
       " (tensor([2]),))"
      ]
     },
     "execution_count": 70,
     "metadata": {},
     "output_type": "execute_result"
    }
   ],
   "source": [
    "clip_delta_variance(tensor, 0.5)"
   ]
  },
  {
   "cell_type": "code",
   "execution_count": 71,
   "metadata": {},
   "outputs": [
    {
     "name": "stdout",
     "output_type": "stream",
     "text": [
      "[[1.19973099 0.54550349 1.75318262 0.07507698 0.5948383  0.75500972]\n",
      " [0.90150385 2.67459574 0.605946   0.23171086 0.45283382 0.64908915]\n",
      " [0.55103076 0.24671458 0.92305489 0.41496215 0.33243857 0.24162199]] (3, 6) [0.82055702 0.9192799  0.45163716]\n"
     ]
    },
    {
     "data": {
      "text/plain": [
       "(array([[[-0.25509721, -0.99032769, -0.75205615,  1.44849796,\n",
       "          -1.05677967,  0.04867981]]]),\n",
       " (array([2], dtype=int64),))"
      ]
     },
     "execution_count": 71,
     "metadata": {},
     "output_type": "execute_result"
    }
   ],
   "source": [
    "clip_delta_variance_np(arr, 0.5)"
   ]
  },
  {
   "cell_type": "code",
   "execution_count": 72,
   "metadata": {},
   "outputs": [
    {
     "data": {
      "text/plain": [
       "[0.1327, 0.0238]"
      ]
     },
     "execution_count": 72,
     "metadata": {},
     "output_type": "execute_result"
    }
   ],
   "source": [
    "a =  [ 0.1327,  0.1902, -0.0953,  0.2576,  0.3372, -0.6992,  0.0238,  0.0277,-0.0214, -0.0285,  0.0082,  0.0133]\n",
    "a[0::6]"
   ]
  },
  {
   "cell_type": "code",
   "execution_count": null,
   "metadata": {},
   "outputs": [],
   "source": [
    "labeled_train_dataset = BboxReader_NegNB(data_dir, train_set_list, augtype, config, mode='train')\n",
    "labeled_train_loader = DataLoader(labeled_train_dataset, batch_size=4, shuffle=True,\n",
    "                            num_workers=4, pin_memory=True, collate_fn=train_collate, drop_last=True)"
   ]
  },
  {
   "cell_type": "code",
   "execution_count": 352,
   "metadata": {},
   "outputs": [],
   "source": [
    "import numpy as np\n",
    "import torch\n",
    "def swap(arr):\n",
    "    while True:\n",
    "        axisorder = torch.randperm(3)\n",
    "        if not torch.all(axisorder == torch.tensor([0, 1, 2])):\n",
    "            break\n",
    "    axisorder = torch.cat([torch.tensor([0,1]),axisorder+2], dim=0)\n",
    "    arr = arr.permute(*axisorder)\n",
    "    unswap = [0, 0, 0, 0, 0]\n",
    "    for i in range(5):\n",
    "        unswap[axisorder[i]] = i\n",
    "    return arr, torch.tensor(unswap)\n",
    "\n",
    "def flip(arr):\n",
    "    flipid = np.where([0,0,np.random.randint(2),np.random.randint(2),np.random.randint(2)])[0]\n",
    "    if flipid.sum() == 0:\n",
    "        flipid = [np.random.randint(2,5)]\n",
    "        print(flipid)\n",
    "    \n",
    "    arr = torch.flip(arr, dims=tuple(flipid))\n",
    "\n",
    "    return arr, flipid\n",
    "\n",
    "\n",
    "def unswap(arr, unswap):\n",
    "    return arr.permute(*unswap)\n",
    "\n",
    "def unflip(arr, unflip):\n",
    "    return torch.flip(arr, dims=tuple(unflip)).contiguous()\n"
   ]
  },
  {
   "cell_type": "code",
   "execution_count": 357,
   "metadata": {},
   "outputs": [
    {
     "name": "stdout",
     "output_type": "stream",
     "text": [
      "tensor([[[[[0, 1],\n",
      "           [2, 3]],\n",
      "\n",
      "          [[4, 5],\n",
      "           [6, 7]]]]])\n"
     ]
    }
   ],
   "source": [
    "swap_augment = []\n",
    "flip_augment = []\n",
    "scale = 2\n",
    "a = torch.tensor([[[[[i*(scale**2)+j*scale+k for k in range(scale)] for j in range(scale)] for i in range(scale)]]])\n",
    "print(a)\n",
    "for i in range(5):\n",
    "    a, unswapax = swap(a)\n",
    "    a, unflipid = flip(a)\n",
    "    # print(a)\n",
    "    swap_augment.append(unswapax)\n",
    "    flip_augment.append(unflipid)"
   ]
  },
  {
   "cell_type": "code",
   "execution_count": 358,
   "metadata": {},
   "outputs": [],
   "source": [
    "flip_augment.reverse()\n",
    "swap_augment.reverse()\n",
    "for i in range(5):\n",
    "    a = unflip(a, flip_augment[i])\n",
    "    a = unswap(a, swap_augment[i])"
   ]
  },
  {
   "cell_type": "code",
   "execution_count": 1,
   "metadata": {},
   "outputs": [
    {
     "name": "stdout",
     "output_type": "stream",
     "text": [
      "\u001b[33m=> WARN: SpatialCGNL block uses '4' groups\u001b[0m\n",
      "\u001b[33m=> WARN: SpatialCGNL block uses '4' groups\u001b[0m\n",
      "\u001b[33m=> WARN: SpatialCGNL block uses '4' groups\u001b[0m\n",
      "\u001b[33m=> WARN: SpatialCGNL block uses '4' groups\u001b[0m\n",
      "\u001b[33m=> WARN: SpatialCGNL block uses '4' groups\u001b[0m\n",
      "72/73\r"
     ]
    }
   ],
   "source": [
    "from dataset.bbox_reader_unlabeled import BboxReader_unlabeled\n",
    "from net.sanet import SANet\n",
    "from single_config import config\n",
    "import torch\n",
    "\n",
    "teacher_net = SANet(config, mode='eval')\n",
    "teacher_net.load_state_dict(torch.load(config['teacher'])['state_dict'])\n",
    "teacher_net = teacher_net.cuda()\n",
    "teacher_net.eval()\n",
    "\n",
    "dataset = BboxReader_unlabeled(config['data_dir'], config['l_train_list'], config['augtype'], config, mode='train')\n",
    "dataset.get_patchs_coordinate(teacher_net)"
   ]
  },
  {
   "cell_type": "code",
   "execution_count": 6,
   "metadata": {},
   "outputs": [
    {
     "data": {
      "text/plain": [
       "[[1, [217, 202, 283]],\n",
       " [3, [141, 196, 290]],\n",
       " [7, [109, 261, 173]],\n",
       " [7, [100, 156, 75]],\n",
       " [11, [160, 149, 257]],\n",
       " [12, [69, 185, 267]],\n",
       " [12, [69, 168, 225]],\n",
       " [12, [68, 193, 267]],\n",
       " [12, [76, 186, 268]],\n",
       " [12, [63, 186, 267]],\n",
       " [12, [66, 136, 219]],\n",
       " [12, [89, 211, 278]],\n",
       " [12, [170, 151, 272]],\n",
       " [13, [149, 157, 291]],\n",
       " [13, [131, 197, 137]],\n",
       " [13, [82, 183, 256]],\n",
       " [13, [61, 163, 264]],\n",
       " [13, [145, 160, 331]],\n",
       " [13, [251, 177, 162]],\n",
       " [14, [179, 183, 293]],\n",
       " [14, [248, 169, 130]],\n",
       " [14, [139, 157, 312]],\n",
       " [14, [250, 156, 147]],\n",
       " [15, [208, 192, 81]],\n",
       " [15, [100, 212, 137]],\n",
       " [15, [189, 226, 147]],\n",
       " [15, [104, 181, 169]],\n",
       " [15, [204, 188, 85]],\n",
       " [16, [247, 137, 309]],\n",
       " [17, [133, 217, 157]],\n",
       " [17, [124, 160, 298]],\n",
       " [17, [76, 186, 153]],\n",
       " [17, [56, 202, 117]],\n",
       " [17, [62, 202, 117]],\n",
       " [17, [109, 228, 119]],\n",
       " [17, [133, 199, 283]],\n",
       " [17, [170, 189, 262]],\n",
       " [17, [77, 200, 83]],\n",
       " [17, [79, 159, 295]],\n",
       " [17, [165, 152, 95]],\n",
       " [17, [55, 176, 136]],\n",
       " [17, [92, 213, 266]],\n",
       " [17, [142, 157, 299]],\n",
       " [19, [90, 161, 78]],\n",
       " [19, [98, 160, 81]],\n",
       " [19, [162, 235, 308]],\n",
       " [19, [95, 201, 86]],\n",
       " [19, [55, 163, 125]],\n",
       " [19, [188, 250, 293]],\n",
       " [19, [67, 214, 140]],\n",
       " [19, [168, 130, 303]],\n",
       " [19, [245, 162, 325]],\n",
       " [19, [134, 231, 292]],\n",
       " [20, [147, 106, 82]],\n",
       " [20, [82, 132, 172]],\n",
       " [20, [156, 192, 319]],\n",
       " [20, [238, 213, 323]],\n",
       " [21, [261, 198, 238]],\n",
       " [23, [110, 106, 87]],\n",
       " [23, [82, 158, 315]],\n",
       " [23, [367, 112, 349]],\n",
       " [23, [343, 254, 105]],\n",
       " [23, [257, 255, 93]],\n",
       " [23, [344, 241, 146]],\n",
       " [24, [80, 213, 132]],\n",
       " [25, [176, 214, 80]],\n",
       " [26, [92, 176, 114]],\n",
       " [26, [14, 201, 219]],\n",
       " [26, [256, 171, 329]],\n",
       " [27, [245, 200, 291]],\n",
       " [27, [239, 200, 287]],\n",
       " [27, [187, 179, 308]],\n",
       " [27, [9, 194, 77]],\n",
       " [28, [161, 209, 125]],\n",
       " [29, [205, 196, 127]],\n",
       " [29, [227, 190, 138]],\n",
       " [30, [100, 207, 143]],\n",
       " [32, [188, 196, 321]],\n",
       " [32, [110, 234, 98]],\n",
       " [32, [164, 226, 152]],\n",
       " [32, [37, 201, 145]],\n",
       " [34, [288, 222, 115]],\n",
       " [34, [291, 165, 337]],\n",
       " [34, [260, 191, 336]],\n",
       " [34, [74, 144, 247]],\n",
       " [34, [256, 154, 236]],\n",
       " [34, [128, 161, 291]],\n",
       " [34, [58, 173, 186]],\n",
       " [34, [64, 191, 294]],\n",
       " [34, [174, 168, 286]],\n",
       " [34, [274, 159, 316]],\n",
       " [36, [79, 150, 326]],\n",
       " [36, [90, 180, 227]],\n",
       " [36, [77, 155, 320]],\n",
       " [36, [49, 138, 109]],\n",
       " [37, [162, 210, 126]],\n",
       " [38, [6, 175, 318]],\n",
       " [42, [105, 162, 297]],\n",
       " [42, [99, 163, 296]],\n",
       " [42, [118, 192, 83]],\n",
       " [43, [188, 147, 140]],\n",
       " [44, [130, 158, 344]],\n",
       " [45, [144, 191, 282]],\n",
       " [45, [139, 193, 280]],\n",
       " [45, [147, 182, 282]],\n",
       " [48, [226, 177, 292]],\n",
       " [48, [156, 181, 97]],\n",
       " [49, [177, 157, 343]],\n",
       " [49, [171, 159, 342]],\n",
       " [49, [270, 140, 402]],\n",
       " [49, [128, 166, 268]],\n",
       " [49, [276, 136, 402]],\n",
       " [49, [281, 150, 61]],\n",
       " [50, [47, 168, 110]],\n",
       " [50, [51, 166, 113]],\n",
       " [50, [170, 242, 106]],\n",
       " [51, [180, 157, 357]],\n",
       " [51, [187, 155, 359]],\n",
       " [51, [223, 218, 111]],\n",
       " [51, [184, 156, 334]],\n",
       " [51, [168, 217, 292]],\n",
       " [51, [84, 162, 142]],\n",
       " [51, [156, 135, 363]],\n",
       " [52, [163, 234, 120]],\n",
       " [52, [106, 192, 258]],\n",
       " [52, [169, 231, 120]],\n",
       " [52, [132, 210, 230]],\n",
       " [54, [205, 177, 259]],\n",
       " [54, [200, 179, 262]],\n",
       " [54, [208, 190, 109]],\n",
       " [56, [266, 195, 293]],\n",
       " [56, [260, 195, 293]],\n",
       " [56, [230, 189, 165]],\n",
       " [57, [224, 161, 114]],\n",
       " [58, [84, 138, 98]],\n",
       " [58, [92, 201, 84]],\n",
       " [58, [76, 189, 231]],\n",
       " [58, [124, 192, 255]],\n",
       " [58, [167, 220, 278]],\n",
       " [58, [80, 185, 156]],\n",
       " [58, [206, 232, 252]],\n",
       " [59, [58, 242, 149]],\n",
       " [59, [93, 127, 115]],\n",
       " [59, [217, 196, 247]],\n",
       " [61, [100, 153, 119]],\n",
       " [62, [242, 187, 96]],\n",
       " [66, [50, 148, 243]],\n",
       " [66, [70, 188, 145]],\n",
       " [66, [76, 198, 138]],\n",
       " [66, [80, 199, 216]],\n",
       " [68, [153, 290, 280]],\n",
       " [68, [58, 195, 220]],\n",
       " [69, [116, 208, 135]],\n",
       " [69, [170, 190, 100]],\n",
       " [71, [160, 237, 117]],\n",
       " [72, [192, 179, 84]],\n",
       " [72, [198, 177, 85]]]"
      ]
     },
     "execution_count": 6,
     "metadata": {},
     "output_type": "execute_result"
    }
   ],
   "source": [
    "dataset.sample_bboxes"
   ]
  },
  {
   "cell_type": "code",
   "execution_count": null,
   "metadata": {},
   "outputs": [],
   "source": []
  },
  {
   "cell_type": "code",
   "execution_count": 5,
   "metadata": {},
   "outputs": [
    {
     "name": "stdout",
     "output_type": "stream",
     "text": [
      "\u001b[33m=> WARN: SpatialCGNL block uses '4' groups\u001b[0m\n",
      "\u001b[33m=> WARN: SpatialCGNL block uses '4' groups\u001b[0m\n",
      "\u001b[33m=> WARN: SpatialCGNL block uses '4' groups\u001b[0m\n",
      "\u001b[33m=> WARN: SpatialCGNL block uses '4' groups\u001b[0m\n",
      "\u001b[33m=> WARN: SpatialCGNL block uses '4' groups\u001b[0m\n",
      "tensor(40.9026, device='cuda:0') tensor(190.3627, device='cuda:0')\n",
      "tensor(41.0521, device='cuda:0')\n",
      "tensor(63.9326, device='cuda:0') tensor(62.8595, device='cuda:0')\n",
      "tensor(63.9315, device='cuda:0')\n",
      "tensor(-0.2570, device='cuda:0') tensor(-2.1040, device='cuda:0')\n",
      "tensor(-0.2589, device='cuda:0')\n",
      "tensor(-9.6480, device='cuda:0') tensor(-19.1281, device='cuda:0')\n",
      "tensor(-9.6575, device='cuda:0')\n",
      "tensor(63.8204, device='cuda:0') tensor(60.5085, device='cuda:0')\n",
      "tensor(63.8171, device='cuda:0')\n",
      "tensor(-0.2898, device='cuda:0') tensor(-5.3464, device='cuda:0')\n",
      "tensor(-0.2949, device='cuda:0')\n",
      "tensor(-81.0719, device='cuda:0') tensor(-249.1176, device='cuda:0')\n",
      "tensor(-81.2400, device='cuda:0')\n",
      "tensor(63.9762, device='cuda:0') tensor(63.5325, device='cuda:0')\n",
      "tensor(63.9757, device='cuda:0')\n",
      "tensor(-0.1721, device='cuda:0') tensor(-1.4463, device='cuda:0')\n",
      "tensor(-0.1734, device='cuda:0')\n",
      "tensor(7.1785, device='cuda:0') tensor(8.4738, device='cuda:0')\n",
      "tensor(7.1798, device='cuda:0')\n",
      "tensor(63.9696, device='cuda:0') tensor(62.4884, device='cuda:0')\n",
      "tensor(63.9681, device='cuda:0')\n",
      "tensor(-0.1524, device='cuda:0') tensor(-2.5821, device='cuda:0')\n",
      "tensor(-0.1548, device='cuda:0')\n",
      "tensor(10.6740, device='cuda:0') tensor(9.4467, device='cuda:0')\n",
      "tensor(10.6728, device='cuda:0')\n",
      "tensor(63.8929, device='cuda:0') tensor(63.4103, device='cuda:0')\n",
      "tensor(63.8925, device='cuda:0')\n",
      "tensor(-0.4100, device='cuda:0') tensor(-3.6629, device='cuda:0')\n",
      "tensor(-0.4132, device='cuda:0')\n",
      "tensor(6.6160, device='cuda:0') tensor(-405.4614, device='cuda:0')\n",
      "tensor(6.2040, device='cuda:0')\n",
      "tensor(64.0381, device='cuda:0') tensor(63.4493, device='cuda:0')\n",
      "tensor(64.0375, device='cuda:0')\n",
      "tensor(0.0991, device='cuda:0') tensor(-1.9505, device='cuda:0')\n",
      "tensor(0.0971, device='cuda:0')\n",
      "tensor(-14.8156, device='cuda:0') tensor(-3.2304, device='cuda:0')\n",
      "tensor(-14.8040, device='cuda:0')\n",
      "tensor(63.7505, device='cuda:0') tensor(64.0004, device='cuda:0')\n",
      "tensor(63.7507, device='cuda:0')\n",
      "tensor(-0.0085, device='cuda:0') tensor(-2.9271, device='cuda:0')\n",
      "tensor(-0.0114, device='cuda:0')\n",
      "tensor(-14.2748, device='cuda:0') tensor(-4.7329, device='cuda:0')\n",
      "tensor(-14.2653, device='cuda:0')\n",
      "tensor(63.9522, device='cuda:0') tensor(63.2178, device='cuda:0')\n",
      "tensor(63.9515, device='cuda:0')\n",
      "tensor(-0.1129, device='cuda:0') tensor(-4.9154, device='cuda:0')\n",
      "tensor(-0.1177, device='cuda:0')\n",
      "tensor(-30.5425, device='cuda:0') tensor(-207.0783, device='cuda:0')\n",
      "tensor(-30.7190, device='cuda:0')\n",
      "tensor(64.0077, device='cuda:0') tensor(63.4404, device='cuda:0')\n",
      "tensor(64.0071, device='cuda:0')\n",
      "tensor(0.0405, device='cuda:0') tensor(-2.9524, device='cuda:0')\n",
      "tensor(0.0375, device='cuda:0')\n",
      "tensor(-12.9351, device='cuda:0') tensor(5.7361, device='cuda:0')\n",
      "tensor(-12.9164, device='cuda:0')\n",
      "tensor(64.0845, device='cuda:0') tensor(64.7718, device='cuda:0')\n",
      "tensor(64.0852, device='cuda:0')\n",
      "tensor(0.0096, device='cuda:0') tensor(-2.6347, device='cuda:0')\n",
      "tensor(0.0069, device='cuda:0')\n",
      "tensor(13.0690, device='cuda:0') tensor(37.5467, device='cuda:0')\n",
      "tensor(13.0935, device='cuda:0')\n",
      "tensor(63.8764, device='cuda:0') tensor(62.7711, device='cuda:0')\n",
      "tensor(63.8753, device='cuda:0')\n",
      "tensor(-0.2769, device='cuda:0') tensor(-4.6227, device='cuda:0')\n",
      "tensor(-0.2813, device='cuda:0')\n",
      "tensor(29.4837, device='cuda:0') tensor(115.5707, device='cuda:0')\n",
      "tensor(29.5698, device='cuda:0')\n",
      "tensor(63.9389, device='cuda:0') tensor(63.7411, device='cuda:0')\n",
      "tensor(63.9387, device='cuda:0')\n",
      "tensor(-0.1565, device='cuda:0') tensor(-1.8593, device='cuda:0')\n",
      "tensor(-0.1582, device='cuda:0')\n",
      "tensor(-14.1124, device='cuda:0') tensor(5.4000, device='cuda:0')\n",
      "tensor(-14.0929, device='cuda:0')\n",
      "tensor(63.7237, device='cuda:0') tensor(64.1464, device='cuda:0')\n",
      "tensor(63.7241, device='cuda:0')\n",
      "tensor(-0.1309, device='cuda:0') tensor(-1.2394, device='cuda:0')\n",
      "tensor(-0.1320, device='cuda:0')\n",
      "tensor(-10.9087, device='cuda:0') tensor(-1.9093, device='cuda:0')\n",
      "tensor(-10.8997, device='cuda:0')\n",
      "tensor(63.9165, device='cuda:0') tensor(63.8690, device='cuda:0')\n",
      "tensor(63.9165, device='cuda:0')\n",
      "tensor(-0.1309, device='cuda:0') tensor(-1.2394, device='cuda:0')\n",
      "tensor(-0.1320, device='cuda:0')\n",
      "tensor(3.9747, device='cuda:0') tensor(-10.8931, device='cuda:0')\n",
      "tensor(3.9598, device='cuda:0')\n",
      "tensor(-4.5608, device='cuda:0') tensor(-15.3552, device='cuda:0')\n",
      "tensor(-4.5716, device='cuda:0')\n",
      "tensor(1.6066, device='cuda:0') tensor(-4.9076, device='cuda:0')\n",
      "tensor(1.6001, device='cuda:0')\n",
      "tensor(-2.2019, device='cuda:0') tensor(-1.8846, device='cuda:0')\n",
      "tensor(-2.2015, device='cuda:0')\n",
      "tensor(63.8021, device='cuda:0') tensor(62.2325, device='cuda:0')\n",
      "tensor(63.8005, device='cuda:0')\n",
      "tensor(-0.2329, device='cuda:0') tensor(-2.2180, device='cuda:0')\n",
      "tensor(-0.2348, device='cuda:0')\n",
      "tensor(12.1950, device='cuda:0') tensor(35.6724, device='cuda:0')\n",
      "tensor(12.2185, device='cuda:0')\n",
      "tensor(63.8851, device='cuda:0') tensor(63.1697, device='cuda:0')\n",
      "tensor(63.8844, device='cuda:0')\n",
      "tensor(-0.2001, device='cuda:0') tensor(-1.6991, device='cuda:0')\n",
      "tensor(-0.2016, device='cuda:0')\n",
      "tensor(-46.9419, device='cuda:0') tensor(-226.6229, device='cuda:0')\n",
      "tensor(-47.1215, device='cuda:0')\n",
      "tensor(63.9233, device='cuda:0') tensor(63.7877, device='cuda:0')\n",
      "tensor(63.9231, device='cuda:0')\n",
      "tensor(-0.0876, device='cuda:0') tensor(-0.9305, device='cuda:0')\n",
      "tensor(-0.0885, device='cuda:0')\n",
      "tensor(-3.5261, device='cuda:0') tensor(5.0032, device='cuda:0')\n",
      "tensor(-3.5176, device='cuda:0')\n",
      "tensor(64.1615, device='cuda:0') tensor(63.5984, device='cuda:0')\n",
      "tensor(64.1609, device='cuda:0')\n",
      "tensor(-0.2329, device='cuda:0') tensor(-2.2178, device='cuda:0')\n",
      "tensor(-0.2349, device='cuda:0')\n",
      "tensor(2.9424, device='cuda:0') tensor(6.4325, device='cuda:0')\n",
      "tensor(2.9459, device='cuda:0')\n",
      "tensor(63.7987, device='cuda:0') tensor(62.9094, device='cuda:0')\n",
      "tensor(63.7978, device='cuda:0')\n",
      "tensor(-0.4981, device='cuda:0') tensor(-2.0384, device='cuda:0')\n",
      "tensor(-0.4996, device='cuda:0')\n",
      "tensor(38.8708, device='cuda:0') tensor(-259.2031, device='cuda:0')\n",
      "tensor(38.5728, device='cuda:0')\n",
      "tensor(63.8898, device='cuda:0') tensor(64.0095, device='cuda:0')\n",
      "tensor(63.8900, device='cuda:0')\n",
      "tensor(-0.4998, device='cuda:0') tensor(-1.4191, device='cuda:0')\n",
      "tensor(-0.5007, device='cuda:0')\n",
      "tensor(-8.9212, device='cuda:0') tensor(-5.0570, device='cuda:0')\n",
      "tensor(-8.9173, device='cuda:0')\n",
      "tensor(64.3541, device='cuda:0') tensor(65.0433, device='cuda:0')\n",
      "tensor(64.3548, device='cuda:0')\n",
      "tensor(-0.2959, device='cuda:0') tensor(-1.4783, device='cuda:0')\n",
      "tensor(-0.2971, device='cuda:0')\n",
      "tensor(-5.3777, device='cuda:0') tensor(-12.9739, device='cuda:0')\n",
      "tensor(-5.3853, device='cuda:0')\n",
      "tensor(-0.3580, device='cuda:0') tensor(-1.6792, device='cuda:0')\n",
      "tensor(-0.3593, device='cuda:0')\n",
      "tensor(1.2938, device='cuda:0') tensor(-0.2317, device='cuda:0')\n",
      "tensor(1.2923, device='cuda:0')\n",
      "tensor(-0.2409, device='cuda:0') tensor(0.7323, device='cuda:0')\n",
      "tensor(-0.2399, device='cuda:0')\n",
      "tensor(63.7231, device='cuda:0') tensor(62.4114, device='cuda:0')\n",
      "tensor(63.7218, device='cuda:0')\n",
      "tensor(-0.3610, device='cuda:0') tensor(-1.9434, device='cuda:0')\n",
      "tensor(-0.3626, device='cuda:0')\n",
      "tensor(-21.3145, device='cuda:0') tensor(-22.5624, device='cuda:0')\n",
      "tensor(-21.3158, device='cuda:0')\n",
      "tensor(63.9250, device='cuda:0') tensor(63.8246, device='cuda:0')\n",
      "tensor(63.9249, device='cuda:0')\n",
      "tensor(-0.1625, device='cuda:0') tensor(-0.1254, device='cuda:0')\n",
      "tensor(-0.1624, device='cuda:0')\n",
      "tensor(-14.6807, device='cuda:0') tensor(-330.6312, device='cuda:0')\n",
      "tensor(-14.9966, device='cuda:0')\n",
      "tensor(64.0342, device='cuda:0') tensor(64.1848, device='cuda:0')\n",
      "tensor(64.0344, device='cuda:0')\n",
      "tensor(-0.4733, device='cuda:0') tensor(0.1433, device='cuda:0')\n",
      "tensor(-0.4726, device='cuda:0')\n",
      "tensor(0.7910, device='cuda:0') tensor(10.2714, device='cuda:0')\n",
      "tensor(0.8005, device='cuda:0')\n",
      "tensor(64.3253, device='cuda:0') tensor(64.4279, device='cuda:0')\n",
      "tensor(64.3254, device='cuda:0')\n",
      "tensor(-0.3610, device='cuda:0') tensor(-1.9431, device='cuda:0')\n",
      "tensor(-0.3626, device='cuda:0')\n",
      "tensor(8.5543, device='cuda:0') tensor(14.9633, device='cuda:0')\n",
      "tensor(8.5607, device='cuda:0')\n",
      "tensor(64.0311, device='cuda:0') tensor(64.1220, device='cuda:0')\n",
      "tensor(64.0312, device='cuda:0')\n",
      "tensor(0.0792, device='cuda:0') tensor(-0.2470, device='cuda:0')\n",
      "tensor(0.0789, device='cuda:0')\n",
      "tensor(-48.9047, device='cuda:0') tensor(-157.0681, device='cuda:0')\n",
      "tensor(-49.0129, device='cuda:0')\n",
      "tensor(64.0574, device='cuda:0') tensor(63.9949, device='cuda:0')\n",
      "tensor(64.0574, device='cuda:0')\n",
      "tensor(0.1485, device='cuda:0') tensor(0.0817, device='cuda:0')\n",
      "tensor(0.1485, device='cuda:0')\n",
      "tensor(-5.6940, device='cuda:0') tensor(-3.4024, device='cuda:0')\n",
      "tensor(-5.6917, device='cuda:0')\n",
      "tensor(63.9430, device='cuda:0') tensor(64.1292, device='cuda:0')\n",
      "tensor(63.9432, device='cuda:0')\n",
      "tensor(0.1048, device='cuda:0') tensor(0.3587, device='cuda:0')\n",
      "tensor(0.1051, device='cuda:0')\n",
      "tensor(0.3190, device='cuda:0') tensor(10.4693, device='cuda:0')\n",
      "tensor(0.3291, device='cuda:0')\n",
      "tensor(64.1151, device='cuda:0') tensor(64.9038, device='cuda:0')\n",
      "tensor(64.1158, device='cuda:0')\n",
      "tensor(0.1048, device='cuda:0') tensor(0.3587, device='cuda:0')\n",
      "tensor(0.1051, device='cuda:0')\n",
      "tensor(6.0931, device='cuda:0') tensor(6.0261, device='cuda:0')\n",
      "tensor(6.0930, device='cuda:0')\n",
      "tensor(2.2744, device='cuda:0') tensor(6.8877, device='cuda:0')\n",
      "tensor(2.2790, device='cuda:0')\n",
      "tensor(-3.6675, device='cuda:0') tensor(-2.9345, device='cuda:0')\n",
      "tensor(-3.6668, device='cuda:0')\n",
      "tensor(1.3209, device='cuda:0') tensor(0.1791, device='cuda:0')\n",
      "tensor(1.3197, device='cuda:0')\n",
      "tensor(63.7748, device='cuda:0') tensor(63.1197, device='cuda:0')\n",
      "tensor(63.7742, device='cuda:0')\n",
      "tensor(0.0780, device='cuda:0') tensor(0.3901, device='cuda:0')\n",
      "tensor(0.0783, device='cuda:0')\n",
      "tensor(-8.7106, device='cuda:0') tensor(-2.2380, device='cuda:0')\n",
      "tensor(-8.7041, device='cuda:0')\n",
      "tensor(63.9883, device='cuda:0') tensor(64.1430, device='cuda:0')\n",
      "tensor(63.9884, device='cuda:0')\n",
      "tensor(0.4069, device='cuda:0') tensor(0.3444, device='cuda:0')\n",
      "tensor(0.4068, device='cuda:0')\n",
      "tensor(-76.5594, device='cuda:0') tensor(-102.6601, device='cuda:0')\n",
      "tensor(-76.5855, device='cuda:0')\n",
      "tensor(64.0302, device='cuda:0') tensor(64.0046, device='cuda:0')\n",
      "tensor(64.0302, device='cuda:0')\n",
      "tensor(0.1536, device='cuda:0') tensor(-0.0732, device='cuda:0')\n",
      "tensor(0.1534, device='cuda:0')\n",
      "tensor(-23.8447, device='cuda:0') tensor(-26.6934, device='cuda:0')\n",
      "tensor(-23.8475, device='cuda:0')\n",
      "tensor(64.1384, device='cuda:0') tensor(64.0942, device='cuda:0')\n",
      "tensor(64.1383, device='cuda:0')\n",
      "tensor(0.0780, device='cuda:0') tensor(0.3903, device='cuda:0')\n",
      "tensor(0.0783, device='cuda:0')\n",
      "tensor(-1.9370, device='cuda:0') tensor(-7.9265, device='cuda:0')\n",
      "tensor(-1.9430, device='cuda:0')\n",
      "tensor(64.0544, device='cuda:0') tensor(63.9976, device='cuda:0')\n",
      "tensor(64.0544, device='cuda:0')\n",
      "tensor(0.3318, device='cuda:0') tensor(0.4902, device='cuda:0')\n",
      "tensor(0.3319, device='cuda:0')\n",
      "tensor(-35.9197, device='cuda:0') tensor(-159.6783, device='cuda:0')\n",
      "tensor(-36.0435, device='cuda:0')\n",
      "tensor(64.0506, device='cuda:0') tensor(63.9479, device='cuda:0')\n",
      "tensor(64.0505, device='cuda:0')\n",
      "tensor(0.0520, device='cuda:0') tensor(0.0481, device='cuda:0')\n",
      "tensor(0.0520, device='cuda:0')\n",
      "tensor(-0.7392, device='cuda:0') tensor(-4.0676, device='cuda:0')\n",
      "tensor(-0.7426, device='cuda:0')\n",
      "tensor(64.1184, device='cuda:0') tensor(64.8829, device='cuda:0')\n",
      "tensor(64.1192, device='cuda:0')\n",
      "tensor(0.0848, device='cuda:0') tensor(0.7477, device='cuda:0')\n",
      "tensor(0.0854, device='cuda:0')\n",
      "tensor(-6.9732, device='cuda:0') tensor(-4.5785, device='cuda:0')\n",
      "tensor(-6.9708, device='cuda:0')\n",
      "tensor(2.5558, device='cuda:0') tensor(-1.6320, device='cuda:0')\n",
      "tensor(2.5516, device='cuda:0')\n",
      "tensor(6.3727, device='cuda:0') tensor(14.6163, device='cuda:0')\n",
      "tensor(6.3810, device='cuda:0')\n",
      "tensor(-3.9933, device='cuda:0') tensor(-4.1853, device='cuda:0')\n",
      "tensor(-3.9934, device='cuda:0')\n",
      "tensor(63.8441, device='cuda:0') tensor(63.9577, device='cuda:0')\n",
      "tensor(63.8442, device='cuda:0')\n",
      "tensor(0.0771, device='cuda:0') tensor(0.6459, device='cuda:0')\n",
      "tensor(0.0777, device='cuda:0')\n",
      "tensor(14.2184, device='cuda:0') tensor(16.5700, device='cuda:0')\n",
      "tensor(14.2207, device='cuda:0')\n",
      "tensor(64.0518, device='cuda:0') tensor(64.1431, device='cuda:0')\n",
      "tensor(64.0519, device='cuda:0')\n",
      "tensor(0.1501, device='cuda:0') tensor(0.7170, device='cuda:0')\n",
      "tensor(0.1507, device='cuda:0')\n",
      "tensor(-37.9454, device='cuda:0') tensor(-268.7672, device='cuda:0')\n",
      "tensor(-38.1762, device='cuda:0')\n",
      "tensor(64.0343, device='cuda:0') tensor(64.1503, device='cuda:0')\n",
      "tensor(64.0344, device='cuda:0')\n",
      "tensor(0.1444, device='cuda:0') tensor(0.1970, device='cuda:0')\n",
      "tensor(0.1445, device='cuda:0')\n",
      "tensor(-23.3250, device='cuda:0') tensor(-17.8171, device='cuda:0')\n",
      "tensor(-23.3195, device='cuda:0')\n",
      "tensor(64.0047, device='cuda:0') tensor(64.1571, device='cuda:0')\n",
      "tensor(64.0048, device='cuda:0')\n",
      "tensor(0.0771, device='cuda:0') tensor(0.6459, device='cuda:0')\n",
      "tensor(0.0777, device='cuda:0')\n",
      "tensor(3.5072, device='cuda:0') tensor(-5.5472, device='cuda:0')\n",
      "tensor(3.4982, device='cuda:0')\n",
      "tensor(64.0337, device='cuda:0') tensor(63.9430, device='cuda:0')\n",
      "tensor(64.0336, device='cuda:0')\n",
      "tensor(0.4589, device='cuda:0') tensor(0.9912, device='cuda:0')\n",
      "tensor(0.4594, device='cuda:0')\n",
      "tensor(-71.3645, device='cuda:0') tensor(-269.0331, device='cuda:0')\n",
      "tensor(-71.5622, device='cuda:0')\n",
      "tensor(64.0363, device='cuda:0') tensor(64.3590, device='cuda:0')\n",
      "tensor(64.0366, device='cuda:0')\n",
      "tensor(0.1955, device='cuda:0') tensor(0.5765, device='cuda:0')\n",
      "tensor(0.1958, device='cuda:0')\n",
      "tensor(-5.0477, device='cuda:0') tensor(0.8646, device='cuda:0')\n",
      "tensor(-5.0418, device='cuda:0')\n",
      "tensor(64.2108, device='cuda:0') tensor(64.2359, device='cuda:0')\n",
      "tensor(64.2108, device='cuda:0')\n",
      "tensor(0.0927, device='cuda:0') tensor(0.2110, device='cuda:0')\n",
      "tensor(0.0929, device='cuda:0')\n",
      "tensor(0.6778, device='cuda:0') tensor(-5.4144, device='cuda:0')\n",
      "tensor(0.6717, device='cuda:0')\n",
      "tensor(-32.5986, device='cuda:0') tensor(-36.9051, device='cuda:0')\n",
      "tensor(-32.6029, device='cuda:0')\n",
      "tensor(7.6599, device='cuda:0') tensor(-7.3318, device='cuda:0')\n",
      "tensor(7.6449, device='cuda:0')\n",
      "tensor(-1.0039, device='cuda:0') tensor(-0.6463, device='cuda:0')\n",
      "tensor(-1.0035, device='cuda:0')\n",
      "tensor(63.7679, device='cuda:0') tensor(63.5018, device='cuda:0')\n",
      "tensor(63.7677, device='cuda:0')\n",
      "tensor(0.1238, device='cuda:0') tensor(-0.1981, device='cuda:0')\n",
      "tensor(0.1235, device='cuda:0')\n",
      "tensor(-5.8160, device='cuda:0') tensor(-14.7890, device='cuda:0')\n",
      "tensor(-5.8249, device='cuda:0')\n",
      "tensor(64.0287, device='cuda:0') tensor(64.2166, device='cuda:0')\n",
      "tensor(64.0289, device='cuda:0')\n",
      "tensor(0.1783, device='cuda:0') tensor(0.5064, device='cuda:0')\n",
      "tensor(0.1787, device='cuda:0')\n",
      "tensor(-8.6119, device='cuda:0') tensor(79.4281, device='cuda:0')\n",
      "tensor(-8.5239, device='cuda:0')\n",
      "tensor(64.0945, device='cuda:0') tensor(64.0362, device='cuda:0')\n",
      "tensor(64.0944, device='cuda:0')\n",
      "tensor(0.2540, device='cuda:0') tensor(0.3916, device='cuda:0')\n",
      "tensor(0.2541, device='cuda:0')\n",
      "tensor(0.9962, device='cuda:0') tensor(2.1942, device='cuda:0')\n",
      "tensor(0.9974, device='cuda:0')\n",
      "tensor(64.2876, device='cuda:0') tensor(63.7009, device='cuda:0')\n",
      "tensor(64.2870, device='cuda:0')\n",
      "tensor(0.1239, device='cuda:0') tensor(-0.1982, device='cuda:0')\n",
      "tensor(0.1236, device='cuda:0')\n",
      "tensor(-11.5472, device='cuda:0') tensor(-24.8123, device='cuda:0')\n",
      "tensor(-11.5604, device='cuda:0')\n",
      "tensor(64.0780, device='cuda:0') tensor(64.1759, device='cuda:0')\n",
      "tensor(64.0781, device='cuda:0')\n",
      "tensor(0.1487, device='cuda:0') tensor(0.7333, device='cuda:0')\n",
      "tensor(0.1493, device='cuda:0')\n",
      "tensor(-62.7300, device='cuda:0') tensor(-437.3137, device='cuda:0')\n",
      "tensor(-63.1046, device='cuda:0')\n",
      "tensor(64.0587, device='cuda:0') tensor(63.8841, device='cuda:0')\n",
      "tensor(64.0585, device='cuda:0')\n",
      "tensor(0.1659, device='cuda:0') tensor(0.2149, device='cuda:0')\n",
      "tensor(0.1660, device='cuda:0')\n",
      "tensor(7.3623, device='cuda:0') tensor(9.6861, device='cuda:0')\n",
      "tensor(7.3646, device='cuda:0')\n",
      "tensor(63.8694, device='cuda:0') tensor(63.8163, device='cuda:0')\n",
      "tensor(63.8694, device='cuda:0')\n",
      "tensor(0.2362, device='cuda:0') tensor(0.1875, device='cuda:0')\n",
      "tensor(0.2361, device='cuda:0')\n",
      "tensor(-2.3566, device='cuda:0') tensor(-10.8722, device='cuda:0')\n",
      "tensor(-2.3651, device='cuda:0')\n",
      "tensor(63.7868, device='cuda:0') tensor(63.4199, device='cuda:0')\n",
      "tensor(63.7865, device='cuda:0')\n",
      "tensor(0.2362, device='cuda:0') tensor(0.1875, device='cuda:0')\n",
      "tensor(0.2361, device='cuda:0')\n",
      "tensor(-4.4722, device='cuda:0') tensor(-36.5980, device='cuda:0')\n",
      "tensor(-4.5043, device='cuda:0')\n",
      "tensor(63.9950, device='cuda:0') tensor(63.6465, device='cuda:0')\n",
      "tensor(63.9946, device='cuda:0')\n",
      "tensor(0.5434, device='cuda:0') tensor(1.9259, device='cuda:0')\n",
      "tensor(0.5448, device='cuda:0')\n",
      "tensor(-88.2350, device='cuda:0') tensor(-100.9672, device='cuda:0')\n",
      "tensor(-88.2477, device='cuda:0')\n",
      "tensor(63.9654, device='cuda:0') tensor(63.8172, device='cuda:0')\n",
      "tensor(63.9653, device='cuda:0')\n",
      "tensor(0.1052, device='cuda:0') tensor(-0.1280, device='cuda:0')\n",
      "tensor(0.1049, device='cuda:0')\n",
      "tensor(-12.9152, device='cuda:0') tensor(-9.3211, device='cuda:0')\n",
      "tensor(-12.9116, device='cuda:0')\n",
      "tensor(64.1563, device='cuda:0') tensor(64.1019, device='cuda:0')\n",
      "tensor(64.1563, device='cuda:0')\n",
      "tensor(0.4683, device='cuda:0') tensor(0.5127, device='cuda:0')\n",
      "tensor(0.4683, device='cuda:0')\n",
      "tensor(-1.9808, device='cuda:0') tensor(-17.0923, device='cuda:0')\n",
      "tensor(-1.9959, device='cuda:0')\n",
      "tensor(64.0137, device='cuda:0') tensor(63.6881, device='cuda:0')\n",
      "tensor(64.0134, device='cuda:0')\n",
      "tensor(0.5851, device='cuda:0') tensor(1.5335, device='cuda:0')\n",
      "tensor(0.5860, device='cuda:0')\n",
      "tensor(0.9415, device='cuda:0') tensor(-167.8843, device='cuda:0')\n",
      "tensor(0.7727, device='cuda:0')\n",
      "tensor(63.9778, device='cuda:0') tensor(63.6765, device='cuda:0')\n",
      "tensor(63.9775, device='cuda:0')\n",
      "tensor(0.0806, device='cuda:0') tensor(-0.0170, device='cuda:0')\n",
      "tensor(0.0805, device='cuda:0')\n",
      "tensor(-2.9718, device='cuda:0') tensor(-1.8403, device='cuda:0')\n",
      "tensor(-2.9706, device='cuda:0')\n",
      "tensor(64.5026, device='cuda:0') tensor(65.0746, device='cuda:0')\n",
      "tensor(64.5032, device='cuda:0')\n",
      "tensor(0.3933, device='cuda:0') tensor(0.8493, device='cuda:0')\n",
      "tensor(0.3937, device='cuda:0')\n",
      "tensor(-3.0741, device='cuda:0') tensor(-3.0741, device='cuda:0')\n",
      "tensor(-3.0741, device='cuda:0')\n",
      "tensor(-0.0987, device='cuda:0') tensor(-0.0987, device='cuda:0')\n",
      "tensor(-0.0987, device='cuda:0')\n",
      "tensor(128., device='cuda:0') tensor(128., device='cuda:0')\n",
      "tensor(128., device='cuda:0')\n",
      "tensor(0., device='cuda:0') tensor(0., device='cuda:0')\n",
      "tensor(0., device='cuda:0')\n",
      "tensor(-882.3668, device='cuda:0') tensor(-2856.8345, device='cuda:0')\n",
      "tensor(-884.3412, device='cuda:0')\n",
      "tensor(0.9642, device='cuda:0') tensor(0.7974, device='cuda:0')\n",
      "tensor(0.9640, device='cuda:0')\n",
      "tensor(131.1811, device='cuda:0') tensor(134.6034, device='cuda:0')\n",
      "tensor(131.1845, device='cuda:0')\n",
      "tensor(4.5854, device='cuda:0') tensor(14.6943, device='cuda:0')\n",
      "tensor(4.5955, device='cuda:0')\n",
      "tensor(-1045.5059, device='cuda:0') tensor(-2567.5576, device='cuda:0')\n",
      "tensor(-1047.0280, device='cuda:0')\n",
      "tensor(-0.0818, device='cuda:0') tensor(0.2645, device='cuda:0')\n",
      "tensor(-0.0814, device='cuda:0')\n",
      "tensor(64.0334, device='cuda:0') tensor(63.6266, device='cuda:0')\n",
      "tensor(64.0330, device='cuda:0')\n",
      "tensor(-0.0482, device='cuda:0') tensor(-0.1677, device='cuda:0')\n",
      "tensor(-0.0483, device='cuda:0')\n",
      "tensor(-10.6413, device='cuda:0') tensor(-44.5660, device='cuda:0')\n",
      "tensor(-10.6752, device='cuda:0')\n",
      "tensor(0.0778, device='cuda:0') tensor(-0.1122, device='cuda:0')\n",
      "tensor(0.0776, device='cuda:0')\n",
      "tensor(64.3066, device='cuda:0') tensor(64.2190, device='cuda:0')\n",
      "tensor(64.3065, device='cuda:0')\n",
      "tensor(1.0196, device='cuda:0') tensor(2.4407, device='cuda:0')\n",
      "tensor(1.0210, device='cuda:0')\n",
      "tensor(-171.8345, device='cuda:0') tensor(-543.5834, device='cuda:0')\n",
      "tensor(-172.2062, device='cuda:0')\n",
      "tensor(-0.0939, device='cuda:0') tensor(0.0213, device='cuda:0')\n",
      "tensor(-0.0938, device='cuda:0')\n",
      "tensor(65.1248, device='cuda:0') tensor(67.4888, device='cuda:0')\n",
      "tensor(65.1272, device='cuda:0')\n",
      "tensor(2.5145, device='cuda:0') tensor(6.6969, device='cuda:0')\n",
      "tensor(2.5186, device='cuda:0')\n",
      "tensor(-19.8649, device='cuda:0') tensor(-39.5982, device='cuda:0')\n",
      "tensor(-19.8846, device='cuda:0')\n",
      "tensor(-0.1218, device='cuda:0') tensor(-0.3413, device='cuda:0')\n",
      "tensor(-0.1220, device='cuda:0')\n",
      "tensor(63.5613, device='cuda:0') tensor(61.9486, device='cuda:0')\n",
      "tensor(63.5596, device='cuda:0')\n",
      "tensor(1.2947, device='cuda:0') tensor(1.2532, device='cuda:0')\n",
      "tensor(1.2947, device='cuda:0')\n",
      "tensor(115.1325, device='cuda:0') tensor(173.1627, device='cuda:0')\n",
      "tensor(115.1905, device='cuda:0')\n",
      "tensor(-0.0508, device='cuda:0') tensor(-0.0437, device='cuda:0')\n",
      "tensor(-0.0507, device='cuda:0')\n",
      "tensor(64.7735, device='cuda:0') tensor(64.0607, device='cuda:0')\n",
      "tensor(64.7728, device='cuda:0')\n",
      "tensor(0.4371, device='cuda:0') tensor(-0.4454, device='cuda:0')\n",
      "tensor(0.4362, device='cuda:0')\n",
      "tensor(7.5388, device='cuda:0') tensor(5.0323, device='cuda:0')\n",
      "tensor(7.5363, device='cuda:0')\n",
      "tensor(0.2940, device='cuda:0') tensor(-0.9629, device='cuda:0')\n",
      "tensor(0.2928, device='cuda:0')\n",
      "tensor(63.1580, device='cuda:0') tensor(63.0645, device='cuda:0')\n",
      "tensor(63.1579, device='cuda:0')\n",
      "tensor(-1.4129, device='cuda:0') tensor(-2.6689, device='cuda:0')\n",
      "tensor(-1.4142, device='cuda:0')\n",
      "tensor(-2.4683, device='cuda:0') tensor(-2.4683, device='cuda:0')\n",
      "tensor(-2.4683, device='cuda:0')\n",
      "tensor(0.0523, device='cuda:0') tensor(0.0523, device='cuda:0')\n",
      "tensor(0.0523, device='cuda:0')\n",
      "tensor(128., device='cuda:0') tensor(128., device='cuda:0')\n",
      "tensor(128., device='cuda:0')\n",
      "tensor(0., device='cuda:0') tensor(0., device='cuda:0')\n",
      "tensor(0., device='cuda:0')\n",
      "tensor(-2.7990, device='cuda:0') tensor(-2.7990, device='cuda:0')\n",
      "tensor(-2.7990, device='cuda:0')\n",
      "tensor(0.3796, device='cuda:0') tensor(0.3796, device='cuda:0')\n",
      "tensor(0.3796, device='cuda:0')\n",
      "tensor(128., device='cuda:0') tensor(128., device='cuda:0')\n",
      "tensor(128., device='cuda:0')\n",
      "tensor(0., device='cuda:0') tensor(0., device='cuda:0')\n",
      "tensor(0., device='cuda:0')\n",
      "tensor(62.9220, device='cuda:0') tensor(158.0967, device='cuda:0')\n",
      "tensor(63.0172, device='cuda:0')\n",
      "tensor(1.3200, device='cuda:0') tensor(4.3607, device='cuda:0')\n",
      "tensor(1.3231, device='cuda:0')\n",
      "tensor(-7.5726, device='cuda:0') tensor(-18.8127, device='cuda:0')\n",
      "tensor(-7.5838, device='cuda:0')\n",
      "tensor(-0.2852, device='cuda:0') tensor(-0.6044, device='cuda:0')\n",
      "tensor(-0.2855, device='cuda:0')\n",
      "tensor(0.8524, device='cuda:0') tensor(1.1862, device='cuda:0')\n",
      "tensor(0.8527, device='cuda:0')\n",
      "tensor(0.2287, device='cuda:0') tensor(0.6049, device='cuda:0')\n",
      "tensor(0.2291, device='cuda:0')\n",
      "tensor(-22894.7227, device='cuda:0') tensor(-32541.8672, device='cuda:0')\n",
      "tensor(-22904.3691, device='cuda:0')\n",
      "tensor(-1.2022, device='cuda:0') tensor(-1.8365, device='cuda:0')\n",
      "tensor(-1.2028, device='cuda:0')\n",
      "tensor(-140.7860, device='cuda:0') tensor(-164.1955, device='cuda:0')\n",
      "tensor(-140.8094, device='cuda:0')\n",
      "tensor(-1.4405, device='cuda:0') tensor(-1.5195, device='cuda:0')\n",
      "tensor(-1.4406, device='cuda:0')\n",
      "tensor(1.5491, device='cuda:0') tensor(1.5482, device='cuda:0')\n",
      "tensor(1.5491, device='cuda:0')\n",
      "tensor(0.0006, device='cuda:0') tensor(0.0006, device='cuda:0')\n",
      "tensor(0.0006, device='cuda:0')\n",
      "tensor(0.0749, device='cuda:0') tensor(-0.9765, device='cuda:0')\n",
      "tensor(0.0738, device='cuda:0')\n",
      "tensor(-0.0082, device='cuda:0') tensor(-0.0116, device='cuda:0')\n",
      "tensor(-0.0082, device='cuda:0')\n",
      "tensor(0.4782, device='cuda:0') tensor(-3.3393, device='cuda:0')\n",
      "tensor(0.4744, device='cuda:0')\n",
      "tensor(0.4206, device='cuda:0') tensor(0.5165, device='cuda:0')\n",
      "tensor(0.4207, device='cuda:0')\n",
      "tensor(65.3794, device='cuda:0') tensor(65.2060, device='cuda:0')\n",
      "tensor(65.3792, device='cuda:0')\n",
      "tensor(0.3401, device='cuda:0') tensor(0.9603, device='cuda:0')\n",
      "tensor(0.3407, device='cuda:0')\n",
      "tensor(-0.4814, device='cuda:0') tensor(-0.4814, device='cuda:0')\n",
      "tensor(-0.4814, device='cuda:0')\n",
      "tensor(-0.0907, device='cuda:0') tensor(-0.0907, device='cuda:0')\n",
      "tensor(-0.0907, device='cuda:0')\n",
      "tensor(64., device='cuda:0') tensor(64., device='cuda:0')\n",
      "tensor(64., device='cuda:0')\n",
      "tensor(0., device='cuda:0') tensor(0., device='cuda:0')\n",
      "tensor(0., device='cuda:0')\n",
      "tensor(-4.7216, device='cuda:0') tensor(-113.6609, device='cuda:0')\n",
      "tensor(-4.8305, device='cuda:0')\n",
      "tensor(0.8920, device='cuda:0') tensor(0.7136, device='cuda:0')\n",
      "tensor(0.8919, device='cuda:0')\n",
      "tensor(61.0924, device='cuda:0') tensor(52.6638, device='cuda:0')\n",
      "tensor(61.0840, device='cuda:0')\n",
      "tensor(-3.6165, device='cuda:0') tensor(-11.3371, device='cuda:0')\n",
      "tensor(-3.6243, device='cuda:0')\n",
      "tensor(-10.9287, device='cuda:0') tensor(-10.9287, device='cuda:0')\n",
      "tensor(-10.9287, device='cuda:0')\n",
      "tensor(-0.0710, device='cuda:0') tensor(-0.0710, device='cuda:0')\n",
      "tensor(-0.0710, device='cuda:0')\n",
      "tensor(64., device='cuda:0') tensor(64., device='cuda:0')\n",
      "tensor(64., device='cuda:0')\n",
      "tensor(0., device='cuda:0') tensor(0., device='cuda:0')\n",
      "tensor(0., device='cuda:0')\n"
     ]
    }
   ],
   "source": [
    "net = SANet(config, mode='eval')\n",
    "net.load_state_dict(torch.load(config['checkpoint'])['state_dict'])\n",
    "net = net.cuda()\n",
    "for param1, param2 in zip(teacher_net.parameters(), net.parameters()):\n",
    "    print(param1.data.sum(), param2.data.sum())\n",
    "    param1.data = 0.999*param1.data + 0.001*param2.data\n",
    "    print(param1.data.sum())"
   ]
  },
  {
   "cell_type": "code",
   "execution_count": null,
   "metadata": {},
   "outputs": [],
   "source": []
  }
 ],
 "metadata": {
  "kernelspec": {
   "display_name": "FGD",
   "language": "python",
   "name": "python3"
  },
  "language_info": {
   "codemirror_mode": {
    "name": "ipython",
    "version": 3
   },
   "file_extension": ".py",
   "mimetype": "text/x-python",
   "name": "python",
   "nbconvert_exporter": "python",
   "pygments_lexer": "ipython3",
   "version": "3.8.18"
  }
 },
 "nbformat": 4,
 "nbformat_minor": 2
}
